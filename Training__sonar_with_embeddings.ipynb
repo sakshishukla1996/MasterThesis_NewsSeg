{
 "cells": [
  {
   "cell_type": "code",
   "execution_count": 34,
   "metadata": {},
   "outputs": [],
   "source": [
    "import torch\n",
    "from torch import nn\n",
    "from torch.utils.data import Dataset\n",
    "from pathlib import Path\n",
    "from tqdm import tqdm\n",
    "import numpy as np\n",
    "import accuracy\n",
    "\n",
    "from torcheval.metrics.functional import multiclass_f1_score\n",
    "\n",
    "import warnings\n",
    "warnings.filterwarnings(\"error\")"
   ]
  },
  {
   "cell_type": "code",
   "execution_count": 35,
   "metadata": {},
   "outputs": [],
   "source": [
    "device=torch.device(\"cuda\")"
   ]
  },
  {
   "cell_type": "code",
   "execution_count": 37,
   "metadata": {},
   "outputs": [
    {
     "data": {
      "text/plain": [
       "MyModel(\n",
       "  (lstm1): LSTM(1024, 512)\n",
       "  (lstm2): LSTM(512, 128)\n",
       "  (linear): Linear(in_features=128, out_features=2, bias=True)\n",
       "  (act1): ReLU()\n",
       ")"
      ]
     },
     "execution_count": 37,
     "metadata": {},
     "output_type": "execute_result"
    }
   ],
   "source": [
    "class MyModel(nn.Module):\n",
    "    def __init__(self) -> None:\n",
    "        super().__init__()\n",
    "        self.lstm1 = nn.LSTM(1024, 512)\n",
    "        self.lstm2 = nn.LSTM(512, 128)\n",
    "        self.linear = nn.Linear(128, 2)\n",
    "        self.act1 = nn.ReLU()\n",
    "\n",
    "    def forward(self, x):\n",
    "        l1, h1 = self.lstm1(x)\n",
    "        z0 = self.act1(l1)\n",
    "        l2, h2 = self.lstm2(z0)\n",
    "        z0 = self.act1(l2)\n",
    "        out = self.linear(z0)\n",
    "        return out\n",
    "    \n",
    "\n",
    "model = MyModel()\n",
    "model.load_state_dict(torch.load(\"model_0.945.ckpt\")['state_dict'])\n",
    "model.to(device)"
   ]
  },
  {
   "cell_type": "code",
   "execution_count": 4,
   "metadata": {},
   "outputs": [],
   "source": [
    "class CustomDataset(Dataset):\n",
    "    def __init__(self, filelist, max_pad=30) -> None:\n",
    "        super().__init__()\n",
    "        self.filelist = filelist\n",
    "        self.max_pad = max_pad\n",
    "    \n",
    "    def __len__(self):\n",
    "        return len(self.filelist)\n",
    "\n",
    "    def __getitem__(self, index):\n",
    "        emb, labs = self._get_random_data()\n",
    "        return emb, labs\n",
    "    \n",
    "    def _get_random_data(self):\n",
    "        nfiles=torch.randint(1, 30, (1,)).item()\n",
    "        embs=[]\n",
    "        labs=[]\n",
    "        for file in range(nfiles):\n",
    "            randid = torch.randint(0, len(self.filelist), (1,)).item()\n",
    "            d=torch.load(self.filelist[randid])\n",
    "            embs.append(d['embeddings'].cpu())\n",
    "            lab = [0]*d['embeddings'].shape[0]\n",
    "            lab[-1]=1\n",
    "            labs.extend(lab)\n",
    "        # for minusfile in range(self.max_pad - nfiles):\n",
    "        #     embs.append(torch.zeros_like(d['embeddings'].cpu()).cpu())\n",
    "        embs = torch.cat(embs)\n",
    "        labs = torch.tensor(labs)\n",
    "        return embs, labs"
   ]
  },
  {
   "cell_type": "code",
   "execution_count": 5,
   "metadata": {},
   "outputs": [
    {
     "name": "stdout",
     "output_type": "stream",
     "text": [
      "151955\n"
     ]
    },
    {
     "data": {
      "text/plain": [
       "(torch.Size([273, 1024]), torch.Size([273]), torch.Size([1, 273, 2]))"
      ]
     },
     "execution_count": 5,
     "metadata": {},
     "output_type": "execute_result"
    }
   ],
   "source": [
    "filelist = list(Path(\"preprocessed_embeddings/en\").glob(\"**/*.pt\")); print(len(filelist))\n",
    "dataset = CustomDataset(filelist=filelist)\n",
    "d = dataset[0]\n",
    "out = model(d[0].unsqueeze(0).to(device))\n",
    "d[0].shape, d[1].shape, out.shape"
   ]
  },
  {
   "cell_type": "code",
   "execution_count": 7,
   "metadata": {},
   "outputs": [],
   "source": [
    "loss_fn = nn.CrossEntropyLoss()\n",
    "optimizer = optimizer = torch.optim.Adam(model.parameters(), lr=0.001)"
   ]
  },
  {
   "cell_type": "code",
   "execution_count": 8,
   "metadata": {},
   "outputs": [],
   "source": [
    "class Accuracies(object):\n",
    "    def __init__(self):\n",
    "        self.thresholds = np.arange(0, 1, 0.05)\n",
    "        self.accuracies = {k: accuracy.Accuracy() for k in self.thresholds}\n",
    "\n",
    "    def update(self, output_np, targets_np):\n",
    "        current_idx = 0\n",
    "        for k, t in enumerate(targets_np):\n",
    "            document_sentence_count = len(t)\n",
    "            to_idx = int(current_idx + document_sentence_count)\n",
    "\n",
    "            for threshold in self.thresholds:\n",
    "                output = ((output_np[current_idx: to_idx, :])[:, 1] > threshold)\n",
    "                h = np.append(output, [1])\n",
    "                tt = np.append(t, [1])\n",
    "\n",
    "                self.accuracies[threshold].update(h, tt)\n",
    "\n",
    "            current_idx = to_idx\n",
    "\n",
    "    def calc_accuracy(self):\n",
    "        min_pk = np.inf\n",
    "        min_threshold = None\n",
    "        min_epoch_windiff = None\n",
    "        for threshold in self.thresholds:\n",
    "            epoch_pk, epoch_windiff = self.accuracies[threshold].calc_accuracy()\n",
    "            if epoch_pk < min_pk:\n",
    "                min_pk = epoch_pk\n",
    "                min_threshold = threshold\n",
    "                min_epoch_windiff = epoch_windiff\n",
    "\n",
    "        return min_pk, min_epoch_windiff, min_threshold"
   ]
  },
  {
   "cell_type": "code",
   "execution_count": 8,
   "metadata": {},
   "outputs": [
    {
     "ename": "RuntimeError",
     "evalue": "Caught RuntimeError in DataLoader worker process 0.\nOriginal Traceback (most recent call last):\n  File \"/home/operation/miniconda/envs/dev/lib/python3.10/site-packages/torch/utils/data/_utils/worker.py\", line 308, in _worker_loop\n    data = fetcher.fetch(index)\n  File \"/home/operation/miniconda/envs/dev/lib/python3.10/site-packages/torch/utils/data/_utils/fetch.py\", line 54, in fetch\n    return self.collate_fn(data)\n  File \"/home/operation/miniconda/envs/dev/lib/python3.10/site-packages/torch/utils/data/_utils/collate.py\", line 265, in default_collate\n    return collate(batch, collate_fn_map=default_collate_fn_map)\n  File \"/home/operation/miniconda/envs/dev/lib/python3.10/site-packages/torch/utils/data/_utils/collate.py\", line 142, in collate\n    return [collate(samples, collate_fn_map=collate_fn_map) for samples in transposed]  # Backwards compatibility.\n  File \"/home/operation/miniconda/envs/dev/lib/python3.10/site-packages/torch/utils/data/_utils/collate.py\", line 142, in <listcomp>\n    return [collate(samples, collate_fn_map=collate_fn_map) for samples in transposed]  # Backwards compatibility.\n  File \"/home/operation/miniconda/envs/dev/lib/python3.10/site-packages/torch/utils/data/_utils/collate.py\", line 119, in collate\n    return collate_fn_map[elem_type](batch, collate_fn_map=collate_fn_map)\n  File \"/home/operation/miniconda/envs/dev/lib/python3.10/site-packages/torch/utils/data/_utils/collate.py\", line 162, in collate_tensor_fn\n    return torch.stack(batch, 0, out=out)\nRuntimeError: stack expects each tensor to be equal size, but got [284, 1024] at entry 0 and [382, 1024] at entry 1\n",
     "output_type": "error",
     "traceback": [
      "\u001b[0;31m---------------------------------------------------------------------------\u001b[0m",
      "\u001b[0;31mRuntimeError\u001b[0m                              Traceback (most recent call last)",
      "Cell \u001b[0;32mIn[8], line 2\u001b[0m\n\u001b[1;32m      1\u001b[0m dl \u001b[38;5;241m=\u001b[39m torch\u001b[38;5;241m.\u001b[39mutils\u001b[38;5;241m.\u001b[39mdata\u001b[38;5;241m.\u001b[39mDataLoader(dataset, batch_size\u001b[38;5;241m=\u001b[39m\u001b[38;5;241m16\u001b[39m, num_workers\u001b[38;5;241m=\u001b[39m\u001b[38;5;241m4\u001b[39m)\n\u001b[0;32m----> 2\u001b[0m d \u001b[38;5;241m=\u001b[39m \u001b[38;5;28;43mnext\u001b[39;49m\u001b[43m(\u001b[49m\u001b[38;5;28;43miter\u001b[39;49m\u001b[43m(\u001b[49m\u001b[43mdl\u001b[49m\u001b[43m)\u001b[49m\u001b[43m)\u001b[49m\n\u001b[1;32m      3\u001b[0m d[\u001b[38;5;241m0\u001b[39m]\u001b[38;5;241m.\u001b[39mshape, d[\u001b[38;5;241m1\u001b[39m]\u001b[38;5;241m.\u001b[39mshape\n",
      "File \u001b[0;32m~/miniconda/envs/dev/lib/python3.10/site-packages/torch/utils/data/dataloader.py:630\u001b[0m, in \u001b[0;36m_BaseDataLoaderIter.__next__\u001b[0;34m(self)\u001b[0m\n\u001b[1;32m    627\u001b[0m \u001b[38;5;28;01mif\u001b[39;00m \u001b[38;5;28mself\u001b[39m\u001b[38;5;241m.\u001b[39m_sampler_iter \u001b[38;5;129;01mis\u001b[39;00m \u001b[38;5;28;01mNone\u001b[39;00m:\n\u001b[1;32m    628\u001b[0m     \u001b[38;5;66;03m# TODO(https://github.com/pytorch/pytorch/issues/76750)\u001b[39;00m\n\u001b[1;32m    629\u001b[0m     \u001b[38;5;28mself\u001b[39m\u001b[38;5;241m.\u001b[39m_reset()  \u001b[38;5;66;03m# type: ignore[call-arg]\u001b[39;00m\n\u001b[0;32m--> 630\u001b[0m data \u001b[38;5;241m=\u001b[39m \u001b[38;5;28;43mself\u001b[39;49m\u001b[38;5;241;43m.\u001b[39;49m\u001b[43m_next_data\u001b[49m\u001b[43m(\u001b[49m\u001b[43m)\u001b[49m\n\u001b[1;32m    631\u001b[0m \u001b[38;5;28mself\u001b[39m\u001b[38;5;241m.\u001b[39m_num_yielded \u001b[38;5;241m+\u001b[39m\u001b[38;5;241m=\u001b[39m \u001b[38;5;241m1\u001b[39m\n\u001b[1;32m    632\u001b[0m \u001b[38;5;28;01mif\u001b[39;00m \u001b[38;5;28mself\u001b[39m\u001b[38;5;241m.\u001b[39m_dataset_kind \u001b[38;5;241m==\u001b[39m _DatasetKind\u001b[38;5;241m.\u001b[39mIterable \u001b[38;5;129;01mand\u001b[39;00m \\\n\u001b[1;32m    633\u001b[0m         \u001b[38;5;28mself\u001b[39m\u001b[38;5;241m.\u001b[39m_IterableDataset_len_called \u001b[38;5;129;01mis\u001b[39;00m \u001b[38;5;129;01mnot\u001b[39;00m \u001b[38;5;28;01mNone\u001b[39;00m \u001b[38;5;129;01mand\u001b[39;00m \\\n\u001b[1;32m    634\u001b[0m         \u001b[38;5;28mself\u001b[39m\u001b[38;5;241m.\u001b[39m_num_yielded \u001b[38;5;241m>\u001b[39m \u001b[38;5;28mself\u001b[39m\u001b[38;5;241m.\u001b[39m_IterableDataset_len_called:\n",
      "File \u001b[0;32m~/miniconda/envs/dev/lib/python3.10/site-packages/torch/utils/data/dataloader.py:1345\u001b[0m, in \u001b[0;36m_MultiProcessingDataLoaderIter._next_data\u001b[0;34m(self)\u001b[0m\n\u001b[1;32m   1343\u001b[0m \u001b[38;5;28;01melse\u001b[39;00m:\n\u001b[1;32m   1344\u001b[0m     \u001b[38;5;28;01mdel\u001b[39;00m \u001b[38;5;28mself\u001b[39m\u001b[38;5;241m.\u001b[39m_task_info[idx]\n\u001b[0;32m-> 1345\u001b[0m     \u001b[38;5;28;01mreturn\u001b[39;00m \u001b[38;5;28;43mself\u001b[39;49m\u001b[38;5;241;43m.\u001b[39;49m\u001b[43m_process_data\u001b[49m\u001b[43m(\u001b[49m\u001b[43mdata\u001b[49m\u001b[43m)\u001b[49m\n",
      "File \u001b[0;32m~/miniconda/envs/dev/lib/python3.10/site-packages/torch/utils/data/dataloader.py:1371\u001b[0m, in \u001b[0;36m_MultiProcessingDataLoaderIter._process_data\u001b[0;34m(self, data)\u001b[0m\n\u001b[1;32m   1369\u001b[0m \u001b[38;5;28mself\u001b[39m\u001b[38;5;241m.\u001b[39m_try_put_index()\n\u001b[1;32m   1370\u001b[0m \u001b[38;5;28;01mif\u001b[39;00m \u001b[38;5;28misinstance\u001b[39m(data, ExceptionWrapper):\n\u001b[0;32m-> 1371\u001b[0m     \u001b[43mdata\u001b[49m\u001b[38;5;241;43m.\u001b[39;49m\u001b[43mreraise\u001b[49m\u001b[43m(\u001b[49m\u001b[43m)\u001b[49m\n\u001b[1;32m   1372\u001b[0m \u001b[38;5;28;01mreturn\u001b[39;00m data\n",
      "File \u001b[0;32m~/miniconda/envs/dev/lib/python3.10/site-packages/torch/_utils.py:694\u001b[0m, in \u001b[0;36mExceptionWrapper.reraise\u001b[0;34m(self)\u001b[0m\n\u001b[1;32m    690\u001b[0m \u001b[38;5;28;01mexcept\u001b[39;00m \u001b[38;5;167;01mTypeError\u001b[39;00m:\n\u001b[1;32m    691\u001b[0m     \u001b[38;5;66;03m# If the exception takes multiple arguments, don't try to\u001b[39;00m\n\u001b[1;32m    692\u001b[0m     \u001b[38;5;66;03m# instantiate since we don't know how to\u001b[39;00m\n\u001b[1;32m    693\u001b[0m     \u001b[38;5;28;01mraise\u001b[39;00m \u001b[38;5;167;01mRuntimeError\u001b[39;00m(msg) \u001b[38;5;28;01mfrom\u001b[39;00m \u001b[38;5;28;01mNone\u001b[39;00m\n\u001b[0;32m--> 694\u001b[0m \u001b[38;5;28;01mraise\u001b[39;00m exception\n",
      "\u001b[0;31mRuntimeError\u001b[0m: Caught RuntimeError in DataLoader worker process 0.\nOriginal Traceback (most recent call last):\n  File \"/home/operation/miniconda/envs/dev/lib/python3.10/site-packages/torch/utils/data/_utils/worker.py\", line 308, in _worker_loop\n    data = fetcher.fetch(index)\n  File \"/home/operation/miniconda/envs/dev/lib/python3.10/site-packages/torch/utils/data/_utils/fetch.py\", line 54, in fetch\n    return self.collate_fn(data)\n  File \"/home/operation/miniconda/envs/dev/lib/python3.10/site-packages/torch/utils/data/_utils/collate.py\", line 265, in default_collate\n    return collate(batch, collate_fn_map=default_collate_fn_map)\n  File \"/home/operation/miniconda/envs/dev/lib/python3.10/site-packages/torch/utils/data/_utils/collate.py\", line 142, in collate\n    return [collate(samples, collate_fn_map=collate_fn_map) for samples in transposed]  # Backwards compatibility.\n  File \"/home/operation/miniconda/envs/dev/lib/python3.10/site-packages/torch/utils/data/_utils/collate.py\", line 142, in <listcomp>\n    return [collate(samples, collate_fn_map=collate_fn_map) for samples in transposed]  # Backwards compatibility.\n  File \"/home/operation/miniconda/envs/dev/lib/python3.10/site-packages/torch/utils/data/_utils/collate.py\", line 119, in collate\n    return collate_fn_map[elem_type](batch, collate_fn_map=collate_fn_map)\n  File \"/home/operation/miniconda/envs/dev/lib/python3.10/site-packages/torch/utils/data/_utils/collate.py\", line 162, in collate_tensor_fn\n    return torch.stack(batch, 0, out=out)\nRuntimeError: stack expects each tensor to be equal size, but got [284, 1024] at entry 0 and [382, 1024] at entry 1\n"
     ]
    }
   ],
   "source": [
    "dl = torch.utils.data.DataLoader(dataset, batch_size=16, num_workers=4)\n",
    "d = next(iter(dl))\n",
    "d[0].shape, d[1].shape"
   ]
  },
  {
   "cell_type": "code",
   "execution_count": 38,
   "metadata": {},
   "outputs": [],
   "source": [
    "import segeval"
   ]
  },
  {
   "cell_type": "code",
   "execution_count": 65,
   "metadata": {},
   "outputs": [
    {
     "ename": "SegmentationMetricError",
     "evalue": "Reference and hypothesis segmentations differ in position length (11 is not 2).",
     "output_type": "error",
     "traceback": [
      "\u001b[0;31m---------------------------------------------------------------------------\u001b[0m",
      "\u001b[0;31mSegmentationMetricError\u001b[0m                   Traceback (most recent call last)",
      "Cell \u001b[0;32mIn[65], line 2\u001b[0m\n\u001b[1;32m      1\u001b[0m acc \u001b[38;5;241m=\u001b[39m Accuracies()\n\u001b[0;32m----> 2\u001b[0m \u001b[43macc\u001b[49m\u001b[38;5;241;43m.\u001b[39;49m\u001b[43mupdate\u001b[49m\u001b[43m(\u001b[49m\u001b[43mtorch\u001b[49m\u001b[38;5;241;43m.\u001b[39;49m\u001b[43mrandint\u001b[49m\u001b[43m(\u001b[49m\u001b[38;5;241;43m0\u001b[39;49m\u001b[43m,\u001b[49m\u001b[43m \u001b[49m\u001b[38;5;241;43m10\u001b[39;49m\u001b[43m,\u001b[49m\u001b[43m \u001b[49m\u001b[43m(\u001b[49m\u001b[38;5;241;43m1\u001b[39;49m\u001b[43m,\u001b[49m\u001b[43m \u001b[49m\u001b[38;5;241;43m10\u001b[39;49m\u001b[43m)\u001b[49m\u001b[43m)\u001b[49m\u001b[38;5;241;43m.\u001b[39;49m\u001b[43mnumpy\u001b[49m\u001b[43m(\u001b[49m\u001b[43m)\u001b[49m\u001b[43m,\u001b[49m\u001b[43m \u001b[49m\u001b[43mtorch\u001b[49m\u001b[38;5;241;43m.\u001b[39;49m\u001b[43mrandint\u001b[49m\u001b[43m(\u001b[49m\u001b[38;5;241;43m0\u001b[39;49m\u001b[43m,\u001b[49m\u001b[43m \u001b[49m\u001b[38;5;241;43m10\u001b[39;49m\u001b[43m,\u001b[49m\u001b[43m \u001b[49m\u001b[43m(\u001b[49m\u001b[38;5;241;43m1\u001b[39;49m\u001b[43m,\u001b[49m\u001b[43m \u001b[49m\u001b[38;5;241;43m10\u001b[39;49m\u001b[43m)\u001b[49m\u001b[43m)\u001b[49m\u001b[38;5;241;43m.\u001b[39;49m\u001b[43mnumpy\u001b[49m\u001b[43m(\u001b[49m\u001b[43m)\u001b[49m\u001b[43m)\u001b[49m\n",
      "Cell \u001b[0;32mIn[8], line 17\u001b[0m, in \u001b[0;36mAccuracies.update\u001b[0;34m(self, output_np, targets_np)\u001b[0m\n\u001b[1;32m     14\u001b[0m     h \u001b[38;5;241m=\u001b[39m np\u001b[38;5;241m.\u001b[39mappend(output, [\u001b[38;5;241m1\u001b[39m])\n\u001b[1;32m     15\u001b[0m     tt \u001b[38;5;241m=\u001b[39m np\u001b[38;5;241m.\u001b[39mappend(t, [\u001b[38;5;241m1\u001b[39m])\n\u001b[0;32m---> 17\u001b[0m     \u001b[38;5;28;43mself\u001b[39;49m\u001b[38;5;241;43m.\u001b[39;49m\u001b[43maccuracies\u001b[49m\u001b[43m[\u001b[49m\u001b[43mthreshold\u001b[49m\u001b[43m]\u001b[49m\u001b[38;5;241;43m.\u001b[39;49m\u001b[43mupdate\u001b[49m\u001b[43m(\u001b[49m\u001b[43mh\u001b[49m\u001b[43m,\u001b[49m\u001b[43m \u001b[49m\u001b[43mtt\u001b[49m\u001b[43m)\u001b[49m\n\u001b[1;32m     19\u001b[0m current_idx \u001b[38;5;241m=\u001b[39m to_idx\n",
      "File \u001b[0;32m~/projects/notebooks/accuracy.py:21\u001b[0m, in \u001b[0;36mAccuracy.update\u001b[0;34m(self, h, gold, sentences_length)\u001b[0m\n\u001b[1;32m     19\u001b[0m h_boundaries \u001b[38;5;241m=\u001b[39m \u001b[38;5;28mself\u001b[39m\u001b[38;5;241m.\u001b[39mget_seg_boundaries(h, sentences_length)\n\u001b[1;32m     20\u001b[0m gold_boundaries \u001b[38;5;241m=\u001b[39m \u001b[38;5;28mself\u001b[39m\u001b[38;5;241m.\u001b[39mget_seg_boundaries(gold, sentences_length)\n\u001b[0;32m---> 21\u001b[0m pk, count_pk \u001b[38;5;241m=\u001b[39m \u001b[38;5;28;43mself\u001b[39;49m\u001b[38;5;241;43m.\u001b[39;49m\u001b[43mpk\u001b[49m\u001b[43m(\u001b[49m\u001b[43mh_boundaries\u001b[49m\u001b[43m,\u001b[49m\u001b[43m \u001b[49m\u001b[43mgold_boundaries\u001b[49m\u001b[43m)\u001b[49m\n\u001b[1;32m     22\u001b[0m windiff, count_wd \u001b[38;5;241m=\u001b[39m \u001b[38;5;241m-\u001b[39m\u001b[38;5;241m1\u001b[39m, \u001b[38;5;241m400\u001b[39m;\u001b[38;5;66;03m# self.win_diff(h_boundaries, gold_boundaries)\u001b[39;00m\n\u001b[1;32m     24\u001b[0m \u001b[38;5;28;01mif\u001b[39;00m pk \u001b[38;5;241m!=\u001b[39m \u001b[38;5;241m-\u001b[39m\u001b[38;5;241m1\u001b[39m:\n",
      "File \u001b[0;32m~/projects/notebooks/accuracy.py:60\u001b[0m, in \u001b[0;36mAccuracy.pk\u001b[0;34m(self, h, gold, window_size)\u001b[0m\n\u001b[1;32m     58\u001b[0m     false_seg_count, total_count \u001b[38;5;241m=\u001b[39m seg\u001b[38;5;241m.\u001b[39mpk(h, gold, window_size\u001b[38;5;241m=\u001b[39mwindow_size, return_parts\u001b[38;5;241m=\u001b[39m\u001b[38;5;28;01mTrue\u001b[39;00m)\n\u001b[1;32m     59\u001b[0m \u001b[38;5;28;01melse\u001b[39;00m:\n\u001b[0;32m---> 60\u001b[0m     false_seg_count, total_count \u001b[38;5;241m=\u001b[39m \u001b[43mseg\u001b[49m\u001b[38;5;241;43m.\u001b[39;49m\u001b[43mpk\u001b[49m\u001b[43m(\u001b[49m\u001b[43mh\u001b[49m\u001b[43m,\u001b[49m\u001b[43m \u001b[49m\u001b[43mgold\u001b[49m\u001b[43m,\u001b[49m\u001b[43m \u001b[49m\u001b[43mreturn_parts\u001b[49m\u001b[38;5;241;43m=\u001b[39;49m\u001b[38;5;28;43;01mTrue\u001b[39;49;00m\u001b[43m)\u001b[49m\n\u001b[1;32m     62\u001b[0m \u001b[38;5;28;01mif\u001b[39;00m total_count \u001b[38;5;241m==\u001b[39m \u001b[38;5;241m0\u001b[39m:\n\u001b[1;32m     63\u001b[0m     \u001b[38;5;66;03m# TODO: Check when happens\u001b[39;00m\n\u001b[1;32m     64\u001b[0m     false_prob \u001b[38;5;241m=\u001b[39m \u001b[38;5;241m-\u001b[39m\u001b[38;5;241m1\u001b[39m\n",
      "File \u001b[0;32m~/miniconda/envs/dev/lib/python3.10/site-packages/segeval/window/pk.py:68\u001b[0m, in \u001b[0;36mpk\u001b[0;34m(*args, **kwargs)\u001b[0m\n\u001b[1;32m     66\u001b[0m \u001b[38;5;28;01mdef\u001b[39;00m \u001b[38;5;21mpk\u001b[39m(\u001b[38;5;241m*\u001b[39margs, \u001b[38;5;241m*\u001b[39m\u001b[38;5;241m*\u001b[39mkwargs):\n\u001b[0;32m---> 68\u001b[0m     \u001b[38;5;28;01mreturn\u001b[39;00m \u001b[43m__fnc_metric__\u001b[49m\u001b[43m(\u001b[49m\u001b[43m__pk__\u001b[49m\u001b[43m,\u001b[49m\u001b[43m \u001b[49m\u001b[43margs\u001b[49m\u001b[43m,\u001b[49m\u001b[43m \u001b[49m\u001b[43mkwargs\u001b[49m\u001b[43m,\u001b[49m\u001b[43m \u001b[49m\u001b[43mWINDOW_METRIC_DEFAULTS\u001b[49m\u001b[43m)\u001b[49m\n",
      "File \u001b[0;32m~/miniconda/envs/dev/lib/python3.10/site-packages/segeval/util/__init__.py:81\u001b[0m, in \u001b[0;36m__fnc_metric__\u001b[0;34m(fnc_metric, args, kwargs, kw_defaults)\u001b[0m\n\u001b[1;32m     78\u001b[0m     \u001b[38;5;28;01melse\u001b[39;00m:\n\u001b[1;32m     79\u001b[0m         \u001b[38;5;66;03m# Compare a single pair of segmentations\u001b[39;00m\n\u001b[1;32m     80\u001b[0m         \u001b[38;5;28;01mdel\u001b[39;00m metric_kwargs[\u001b[38;5;124m'\u001b[39m\u001b[38;5;124mpermuted\u001b[39m\u001b[38;5;124m'\u001b[39m]\n\u001b[0;32m---> 81\u001b[0m         \u001b[38;5;28;01mreturn\u001b[39;00m \u001b[43mfnc_metric\u001b[49m\u001b[43m(\u001b[49m\u001b[43mhypothesis\u001b[49m\u001b[43m,\u001b[49m\u001b[43m \u001b[49m\u001b[43mreference\u001b[49m\u001b[43m,\u001b[49m\u001b[43m \u001b[49m\u001b[38;5;241;43m*\u001b[39;49m\u001b[38;5;241;43m*\u001b[39;49m\u001b[43mmetric_kwargs\u001b[49m\u001b[43m)\u001b[49m\n\u001b[1;32m     82\u001b[0m \u001b[38;5;66;03m# Except if insufficient arguments supplied\u001b[39;00m\n\u001b[1;32m     83\u001b[0m \u001b[38;5;28;01mraise\u001b[39;00m SegmentationMetricError(\u001b[38;5;124m'\u001b[39m\u001b[38;5;124mIncorrect arguments specified; expected 1 or 2, obtained \u001b[39m\u001b[38;5;132;01m{0}\u001b[39;00m\u001b[38;5;124m of value: \u001b[39m\u001b[38;5;132;01m{1}\u001b[39;00m\u001b[38;5;124m'\u001b[39m\u001b[38;5;241m.\u001b[39mformat(\u001b[38;5;28mstr\u001b[39m(\u001b[38;5;28mlen\u001b[39m(args)), \u001b[38;5;28mstr\u001b[39m(args)))\n",
      "File \u001b[0;32m~/miniconda/envs/dev/lib/python3.10/site-packages/segeval/window/pk.py:33\u001b[0m, in \u001b[0;36m__pk__\u001b[0;34m(hypothesis, reference, window_size, one_minus, boundary_format, return_parts, fnc_round)\u001b[0m\n\u001b[1;32m     31\u001b[0m \u001b[38;5;66;03m# Check for input errors\u001b[39;00m\n\u001b[1;32m     32\u001b[0m \u001b[38;5;28;01mif\u001b[39;00m \u001b[38;5;28mlen\u001b[39m(reference) \u001b[38;5;241m!=\u001b[39m \u001b[38;5;28mlen\u001b[39m(hypothesis):\n\u001b[0;32m---> 33\u001b[0m     \u001b[38;5;28;01mraise\u001b[39;00m SegmentationMetricError(\n\u001b[1;32m     34\u001b[0m         \u001b[38;5;124m'\u001b[39m\u001b[38;5;124mReference and hypothesis segmentations differ in position length (\u001b[39m\u001b[38;5;132;01m{0}\u001b[39;00m\u001b[38;5;124m is not \u001b[39m\u001b[38;5;132;01m{1}\u001b[39;00m\u001b[38;5;124m).\u001b[39m\u001b[38;5;124m'\u001b[39m\u001b[38;5;241m.\u001b[39mformat(\u001b[38;5;28mlen\u001b[39m(reference), \u001b[38;5;28mlen\u001b[39m(hypothesis)))\n\u001b[1;32m     35\u001b[0m \u001b[38;5;66;03m# Compute window size to use if unspecified\u001b[39;00m\n\u001b[1;32m     36\u001b[0m \u001b[38;5;28;01mif\u001b[39;00m window_size \u001b[38;5;129;01mis\u001b[39;00m \u001b[38;5;28;01mNone\u001b[39;00m:\n",
      "\u001b[0;31mSegmentationMetricError\u001b[0m: Reference and hypothesis segmentations differ in position length (11 is not 2)."
     ]
    }
   ],
   "source": [
    "acc = Accuracies()\n",
    "acc.update(torch.randint(0, 10, (1, 10)).numpy(), torch.randint(0, 10, (1, 10)).numpy())"
   ]
  },
  {
   "cell_type": "code",
   "execution_count": 39,
   "metadata": {},
   "outputs": [
    {
     "name": "stderr",
     "output_type": "stream",
     "text": [
      "  0%|          | 0/151955 [00:00<?, ?it/s]"
     ]
    },
    {
     "name": "stderr",
     "output_type": "stream",
     "text": [
      "  0%|          | 0/151955 [00:00<?, ?it/s, idx=0, loss=0.338, f1=0.894, val_score=0.857]\n",
      "  0%|          | 0/151955 [00:00<?, ?it/s, idx=0, loss=0.313, f1=1, val_score=0.857]\n",
      "  0%|          | 0/151955 [00:00<?, ?it/s, idx=0, loss=0.34, f1=0.893, val_score=0.857]\n"
     ]
    }
   ],
   "source": [
    "epochs=3\n",
    "running_loss=0.0\n",
    "score=0\n",
    "model.to(device)\n",
    "# loss_fn.to(\"cpu\")\n",
    "\n",
    "val_files = Path(f\"/home/operation/projects/notebooks/validation/\").glob(\"*.pt\")\n",
    "for epoch in range(epochs):\n",
    "    prog = tqdm(enumerate(dataset), total=len(dataset))\n",
    "    avg_f1 = []\n",
    "    losses = []\n",
    "    for idx, d in prog:\n",
    "        try:\n",
    "            emb, lab = d\n",
    "            emb = emb.unsqueeze(0).to(device)\n",
    "            lab = lab.to(device)\n",
    "            optimizer.zero_grad()\n",
    "\n",
    "            outputs = nn.functional.softmax(model(emb), -1)\n",
    "\n",
    "            loss = loss_fn(outputs.squeeze(0).cpu(), lab.cpu())\n",
    "            loss.backward()\n",
    "            optimizer.step()\n",
    "\n",
    "            running_loss += loss.item()\n",
    "            losses.append(loss.item())\n",
    "            f1 = multiclass_f1_score(outputs.squeeze(0).argmax(-1), lab, num_classes=2, average=\"macro\")\n",
    "            avg_f1.append(f1.item())\n",
    "\n",
    "            model.to(device)\n",
    "            if idx%1000==0:\n",
    "                for vfile in val_files:\n",
    "                    d = torch.load(vfile)\n",
    "                    embb = d['embeddings'].to(device)\n",
    "                    labs = d['labels'].to(device)\n",
    "                    with torch.no_grad():\n",
    "                        outs = nn.functional.softmax(model(embb.unsqueeze(0)), -1)\n",
    "                    score = multiclass_f1_score(outs.squeeze(0).argmax(-1), labs, num_classes=2, average=\"macro\")\n",
    "            if idx%1000==0:\n",
    "                torch.save({\"state_dict\": model.state_dict(), \"optimizer\": optimizer.state_dict()}, f\"./model_{epoch}.ckpt\")\n",
    "            prog.set_postfix({\"idx\": idx, \"loss\": torch.mean(torch.tensor(losses[-100:])).item(), \"f1\": torch.mean(torch.tensor(avg_f1[-100:])).item(), \"val_score\": score.item()})\n",
    "            break\n",
    "        except Exception as e:\n",
    "            print(e)\n",
    "            break"
   ]
  },
  {
   "cell_type": "code",
   "execution_count": 67,
   "metadata": {},
   "outputs": [
    {
     "data": {
      "text/plain": [
       "torch.Size([9932])"
      ]
     },
     "execution_count": 67,
     "metadata": {},
     "output_type": "execute_result"
    }
   ],
   "source": [
    "labs.shape, outs.argmax(-1)"
   ]
  },
  {
   "cell_type": "code",
   "execution_count": 43,
   "metadata": {},
   "outputs": [
    {
     "name": "stdout",
     "output_type": "stream",
     "text": [
      "tensor([0, 0, 0, 0, 0, 0, 0, 0, 0, 0, 0, 0, 0, 0, 0, 0, 0, 0, 0, 0, 0, 0, 0, 0,\n",
      "        0, 0, 1, 0, 0, 0, 0, 0, 0, 0, 0, 0, 0, 0, 0, 0, 0, 0, 0, 0, 0, 0, 0, 0,\n",
      "        1, 0, 0, 0, 0, 0, 0, 0, 0, 0, 0, 0, 0, 0, 0, 0, 0, 0, 0, 0, 1, 0, 0, 0,\n",
      "        0, 0, 0, 0, 0, 0, 0, 1, 0, 0, 0, 0, 0, 0, 0, 0, 0, 0, 0, 0, 0, 0, 0, 0,\n",
      "        0, 0, 0, 0], device='cuda:0') tensor([[0, 0, 0,  ..., 1, 0, 1]], device='cuda:0')\n"
     ]
    }
   ],
   "source": [
    "print(labs[:100], outs.argmax(-1)[:100])"
   ]
  },
  {
   "cell_type": "code",
   "execution_count": 46,
   "metadata": {},
   "outputs": [
    {
     "data": {
      "text/plain": [
       "torch.Size([9932])"
      ]
     },
     "execution_count": 46,
     "metadata": {},
     "output_type": "execute_result"
    }
   ],
   "source": [
    ".shape"
   ]
  },
  {
   "cell_type": "code",
   "execution_count": 55,
   "metadata": {},
   "outputs": [
    {
     "data": {
      "text/plain": [
       "tensor([  12,   25,   26,   48,   68,   79,  102,  106,  119,  138,  147,  160,\n",
       "         163,  175,  197,  209,  230,  269,  272,  275,  295,  311,  317,  332,\n",
       "         338,  362,  373,  379,  380,  381,  387,  389,  390,  419,  430,  443,\n",
       "         451,  459,  460,  477,  485,  486,  488,  503,  519,  536,  558,  560,\n",
       "         582,  595,  607,  627,  652,  673,  692,  707,  723,  724,  735,  739,\n",
       "         756,  771,  783,  806,  822,  837,  841,  848,  861,  878,  895,  897,\n",
       "         900,  913,  935,  938,  960,  978, 1003, 1006, 1027, 1051, 1052, 1054,\n",
       "        1078, 1086, 1095, 1101, 1111, 1117, 1137, 1159, 1178, 1185, 1187, 1189,\n",
       "        1191, 1200, 1204, 1206, 1207, 1215, 1219, 1226, 1227, 1237, 1256, 1280,\n",
       "        1290, 1293, 1308, 1320, 1338, 1359, 1375, 1394, 1410, 1424, 1431, 1446,\n",
       "        1458, 1471, 1494, 1497, 1515, 1535, 1564, 1584, 1610, 1631, 1648, 1651,\n",
       "        1652, 1667, 1686, 1690, 1700, 1710, 1732, 1745, 1748, 1752, 1753, 1759,\n",
       "        1770, 1775, 1782, 1792, 1807, 1809, 1827, 1842, 1843, 1865, 1882, 1886,\n",
       "        1905, 1907, 1926, 1927, 1951, 1953, 1956, 1974, 1996, 2012, 2033, 2040,\n",
       "        2051, 2081, 2088, 2092, 2122, 2132, 2139, 2144, 2145, 2146, 2161, 2179,\n",
       "        2190, 2196, 2212, 2220, 2234, 2239, 2254, 2268, 2287, 2290, 2309, 2337,\n",
       "        2358, 2365, 2377, 2392, 2395, 2408, 2425, 2434, 2438, 2448, 2462, 2463,\n",
       "        2477, 2480, 2494, 2512, 2518, 2529, 2537, 2552, 2563, 2572, 2582, 2599,\n",
       "        2602, 2622, 2643, 2644, 2670, 2686, 2697, 2708, 2730, 2731, 2736, 2740,\n",
       "        2749, 2770, 2791, 2803, 2814, 2817, 2843, 2859, 2883, 2886, 2890, 2893,\n",
       "        2894, 2895, 2896, 2897, 2898, 2900, 2907, 2920, 2941, 2955, 2961, 2964,\n",
       "        2979, 3004, 3020, 3044, 3045, 3047, 3049, 3052, 3053, 3071, 3085, 3107,\n",
       "        3121, 3123, 3137, 3162, 3174, 3179, 3200, 3214, 3221, 3229, 3234, 3251,\n",
       "        3252, 3260, 3261, 3265, 3285, 3309, 3324, 3332, 3339, 3364, 3375, 3395,\n",
       "        3406, 3408, 3428, 3438, 3463, 3482, 3492, 3502, 3512, 3513, 3537, 3560,\n",
       "        3572, 3586, 3600, 3620, 3628, 3652, 3657, 3666, 3686, 3708, 3728, 3730,\n",
       "        3732, 3742, 3761, 3762, 3783, 3801, 3830, 3867, 3882, 3894, 3898, 3905,\n",
       "        3917, 3928, 3952, 3960, 3973, 3975, 3989, 4006, 4012, 4021, 4027, 4040,\n",
       "        4057, 4058, 4069, 4080, 4092, 4103, 4111, 4112, 4126, 4140, 4145, 4157,\n",
       "        4158, 4160, 4187, 4200, 4208, 4215, 4228, 4237, 4248, 4253, 4268, 4279,\n",
       "        4286, 4296, 4302, 4303, 4305, 4327, 4343, 4392, 4407, 4421, 4435, 4456,\n",
       "        4469, 4486, 4487, 4489, 4507, 4513, 4539, 4540, 4543, 4549, 4561, 4582,\n",
       "        4583, 4596, 4599, 4616, 4634, 4635, 4636, 4646, 4663, 4664, 4669, 4682,\n",
       "        4711, 4720, 4728, 4733, 4737, 4738, 4756, 4769, 4791, 4812, 4827, 4848,\n",
       "        4850, 4852, 4858, 4869, 4879, 4887, 4898, 4917, 4932, 4956, 4973, 4977,\n",
       "        4994, 5006, 5011, 5024, 5035, 5042, 5054, 5055, 5058, 5067, 5068, 5088,\n",
       "        5109, 5121, 5126, 5128, 5152, 5171, 5173, 5180, 5207, 5216, 5222, 5248,\n",
       "        5267, 5280, 5300, 5323, 5354, 5370, 5389, 5399, 5415, 5433, 5435, 5447,\n",
       "        5452, 5465, 5481, 5485, 5488, 5494, 5515, 5541, 5555, 5557, 5570, 5579,\n",
       "        5592, 5602, 5609, 5613, 5620, 5635, 5648, 5668, 5670, 5683, 5685, 5688,\n",
       "        5691, 5709, 5723, 5724, 5727, 5732, 5733, 5737, 5750, 5773, 5788, 5789,\n",
       "        5804, 5805, 5817, 5835, 5855, 5859, 5865, 5876, 5886, 5889, 5892, 5893,\n",
       "        5912, 5914, 5915, 5929, 5938, 5954, 5971, 5972, 5994, 6010, 6024, 6041,\n",
       "        6060, 6081, 6094, 6097, 6119, 6147, 6160, 6170, 6173, 6175, 6178, 6192,\n",
       "        6216, 6239, 6254, 6265, 6266, 6280, 6281, 6295, 6311, 6330, 6331, 6359,\n",
       "        6360, 6362, 6367, 6368, 6380, 6390, 6400, 6420, 6423, 6437, 6443, 6458,\n",
       "        6460, 6468, 6474, 6489, 6504, 6513, 6520, 6531, 6533, 6560, 6584, 6586,\n",
       "        6588, 6594, 6595, 6604, 6647, 6669, 6680, 6685, 6694, 6709, 6725, 6740,\n",
       "        6747, 6756, 6757, 6758, 6779, 6803, 6813, 6829, 6846, 6861, 6870, 6872,\n",
       "        6885, 6891, 6911, 6929, 6942, 6951, 6976, 6995, 7017, 7026, 7029, 7036,\n",
       "        7040, 7048, 7065, 7069, 7071, 7078, 7085, 7094, 7133, 7135, 7146, 7163,\n",
       "        7164, 7183, 7190, 7202, 7233, 7239, 7249, 7255, 7271, 7282, 7290, 7311,\n",
       "        7324, 7344, 7350, 7358, 7383, 7408, 7421, 7434, 7439, 7450, 7462, 7463,\n",
       "        7475, 7477, 7494, 7496, 7522, 7541, 7542, 7550, 7578, 7597, 7620, 7655,\n",
       "        7669, 7677, 7678, 7685, 7686, 7689, 7690, 7699, 7718, 7732, 7749, 7752,\n",
       "        7767, 7768, 7769, 7793, 7804, 7819, 7847, 7861, 7867, 7869, 7875, 7894,\n",
       "        7914, 7933, 7956, 7959, 7972, 7990, 7999, 8016, 8039, 8040, 8053, 8056,\n",
       "        8065, 8069, 8071, 8100, 8112, 8122, 8123, 8127, 8143, 8159, 8178, 8191,\n",
       "        8202, 8208, 8228, 8240, 8259, 8277, 8278, 8295, 8302, 8303, 8305, 8313,\n",
       "        8327, 8338, 8339, 8351, 8357, 8362, 8378, 8379, 8381, 8393, 8408, 8414,\n",
       "        8433, 8453, 8479, 8496, 8523, 8530, 8539, 8550, 8552, 8570, 8571, 8572,\n",
       "        8579, 8595, 8613, 8621, 8633, 8655, 8676, 8703, 8723, 8736, 8760, 8784,\n",
       "        8791, 8810, 8811, 8813, 8825, 8828, 8829, 8836, 8842, 8873, 8897, 8916,\n",
       "        8934, 8936, 8952, 8961, 8965, 8967, 8985, 9000, 9006, 9019, 9036, 9058,\n",
       "        9076, 9100, 9105, 9126, 9143, 9146, 9161, 9181, 9199, 9206, 9218, 9234,\n",
       "        9249, 9266, 9267, 9269, 9297, 9310, 9314, 9323, 9345, 9367, 9369, 9379,\n",
       "        9395, 9407, 9415, 9420, 9431, 9439, 9462, 9475, 9476, 9495, 9520, 9539,\n",
       "        9554, 9578, 9579, 9599, 9622, 9628, 9629, 9631, 9632, 9634, 9636, 9637,\n",
       "        9638, 9664, 9665, 9680, 9683, 9684, 9686, 9696, 9705, 9718, 9726, 9733,\n",
       "        9752, 9758, 9760, 9766, 9796, 9808, 9811, 9818, 9830, 9843, 9845, 9849,\n",
       "        9860, 9863, 9868, 9882, 9888, 9896, 9901, 9912, 9929, 9931],\n",
       "       device='cuda:0')"
      ]
     },
     "execution_count": 55,
     "metadata": {},
     "output_type": "execute_result"
    }
   ],
   "source": []
  },
  {
   "cell_type": "code",
   "execution_count": 60,
   "metadata": {},
   "outputs": [
    {
     "ename": "SegmentationMetricError",
     "evalue": "Reference and hypothesis segmentations differ in position length (24 is not 30).",
     "output_type": "error",
     "traceback": [
      "\u001b[0;31m---------------------------------------------------------------------------\u001b[0m",
      "\u001b[0;31mSegmentationMetricError\u001b[0m                   Traceback (most recent call last)",
      "Cell \u001b[0;32mIn[60], line 4\u001b[0m\n\u001b[1;32m      1\u001b[0m a \u001b[38;5;241m=\u001b[39m [\u001b[38;5;241m2\u001b[39m,\u001b[38;5;241m4\u001b[39m,\u001b[38;5;241m6\u001b[39m,\u001b[38;5;241m8\u001b[39m,\u001b[38;5;241m10\u001b[39m]\n\u001b[1;32m      2\u001b[0m b \u001b[38;5;241m=\u001b[39m [\u001b[38;5;241m2\u001b[39m,\u001b[38;5;241m4\u001b[39m,\u001b[38;5;241m8\u001b[39m,\u001b[38;5;241m10\u001b[39m]\n\u001b[0;32m----> 4\u001b[0m \u001b[43msegeval\u001b[49m\u001b[38;5;241;43m.\u001b[39;49m\u001b[43mpk\u001b[49m\u001b[43m(\u001b[49m\u001b[43ma\u001b[49m\u001b[43m,\u001b[49m\u001b[43m \u001b[49m\u001b[43mb\u001b[49m\u001b[43m)\u001b[49m\n",
      "File \u001b[0;32m~/miniconda/envs/dev/lib/python3.10/site-packages/segeval/window/pk.py:68\u001b[0m, in \u001b[0;36mpk\u001b[0;34m(*args, **kwargs)\u001b[0m\n\u001b[1;32m     66\u001b[0m \u001b[38;5;28;01mdef\u001b[39;00m \u001b[38;5;21mpk\u001b[39m(\u001b[38;5;241m*\u001b[39margs, \u001b[38;5;241m*\u001b[39m\u001b[38;5;241m*\u001b[39mkwargs):\n\u001b[0;32m---> 68\u001b[0m     \u001b[38;5;28;01mreturn\u001b[39;00m \u001b[43m__fnc_metric__\u001b[49m\u001b[43m(\u001b[49m\u001b[43m__pk__\u001b[49m\u001b[43m,\u001b[49m\u001b[43m \u001b[49m\u001b[43margs\u001b[49m\u001b[43m,\u001b[49m\u001b[43m \u001b[49m\u001b[43mkwargs\u001b[49m\u001b[43m,\u001b[49m\u001b[43m \u001b[49m\u001b[43mWINDOW_METRIC_DEFAULTS\u001b[49m\u001b[43m)\u001b[49m\n",
      "File \u001b[0;32m~/miniconda/envs/dev/lib/python3.10/site-packages/segeval/util/__init__.py:81\u001b[0m, in \u001b[0;36m__fnc_metric__\u001b[0;34m(fnc_metric, args, kwargs, kw_defaults)\u001b[0m\n\u001b[1;32m     78\u001b[0m     \u001b[38;5;28;01melse\u001b[39;00m:\n\u001b[1;32m     79\u001b[0m         \u001b[38;5;66;03m# Compare a single pair of segmentations\u001b[39;00m\n\u001b[1;32m     80\u001b[0m         \u001b[38;5;28;01mdel\u001b[39;00m metric_kwargs[\u001b[38;5;124m'\u001b[39m\u001b[38;5;124mpermuted\u001b[39m\u001b[38;5;124m'\u001b[39m]\n\u001b[0;32m---> 81\u001b[0m         \u001b[38;5;28;01mreturn\u001b[39;00m \u001b[43mfnc_metric\u001b[49m\u001b[43m(\u001b[49m\u001b[43mhypothesis\u001b[49m\u001b[43m,\u001b[49m\u001b[43m \u001b[49m\u001b[43mreference\u001b[49m\u001b[43m,\u001b[49m\u001b[43m \u001b[49m\u001b[38;5;241;43m*\u001b[39;49m\u001b[38;5;241;43m*\u001b[39;49m\u001b[43mmetric_kwargs\u001b[49m\u001b[43m)\u001b[49m\n\u001b[1;32m     82\u001b[0m \u001b[38;5;66;03m# Except if insufficient arguments supplied\u001b[39;00m\n\u001b[1;32m     83\u001b[0m \u001b[38;5;28;01mraise\u001b[39;00m SegmentationMetricError(\u001b[38;5;124m'\u001b[39m\u001b[38;5;124mIncorrect arguments specified; expected 1 or 2, obtained \u001b[39m\u001b[38;5;132;01m{0}\u001b[39;00m\u001b[38;5;124m of value: \u001b[39m\u001b[38;5;132;01m{1}\u001b[39;00m\u001b[38;5;124m'\u001b[39m\u001b[38;5;241m.\u001b[39mformat(\u001b[38;5;28mstr\u001b[39m(\u001b[38;5;28mlen\u001b[39m(args)), \u001b[38;5;28mstr\u001b[39m(args)))\n",
      "File \u001b[0;32m~/miniconda/envs/dev/lib/python3.10/site-packages/segeval/window/pk.py:33\u001b[0m, in \u001b[0;36m__pk__\u001b[0;34m(hypothesis, reference, window_size, one_minus, boundary_format, return_parts, fnc_round)\u001b[0m\n\u001b[1;32m     31\u001b[0m \u001b[38;5;66;03m# Check for input errors\u001b[39;00m\n\u001b[1;32m     32\u001b[0m \u001b[38;5;28;01mif\u001b[39;00m \u001b[38;5;28mlen\u001b[39m(reference) \u001b[38;5;241m!=\u001b[39m \u001b[38;5;28mlen\u001b[39m(hypothesis):\n\u001b[0;32m---> 33\u001b[0m     \u001b[38;5;28;01mraise\u001b[39;00m SegmentationMetricError(\n\u001b[1;32m     34\u001b[0m         \u001b[38;5;124m'\u001b[39m\u001b[38;5;124mReference and hypothesis segmentations differ in position length (\u001b[39m\u001b[38;5;132;01m{0}\u001b[39;00m\u001b[38;5;124m is not \u001b[39m\u001b[38;5;132;01m{1}\u001b[39;00m\u001b[38;5;124m).\u001b[39m\u001b[38;5;124m'\u001b[39m\u001b[38;5;241m.\u001b[39mformat(\u001b[38;5;28mlen\u001b[39m(reference), \u001b[38;5;28mlen\u001b[39m(hypothesis)))\n\u001b[1;32m     35\u001b[0m \u001b[38;5;66;03m# Compute window size to use if unspecified\u001b[39;00m\n\u001b[1;32m     36\u001b[0m \u001b[38;5;28;01mif\u001b[39;00m window_size \u001b[38;5;129;01mis\u001b[39;00m \u001b[38;5;28;01mNone\u001b[39;00m:\n",
      "\u001b[0;31mSegmentationMetricError\u001b[0m: Reference and hypothesis segmentations differ in position length (24 is not 30)."
     ]
    }
   ],
   "source": [
    "a = [2,4,6,8,10]\n",
    "b = [2,4,8,10]\n",
    "\n",
    "segeval.pk(a, b)"
   ]
  },
  {
   "cell_type": "code",
   "execution_count": 12,
   "metadata": {},
   "outputs": [
    {
     "data": {
      "text/plain": [
       "Dataset(dict,\n",
       "        {'stargazer': {'1': (2, 3, 3, 1, 3, 6, 3),\n",
       "          '2': (2, 8, 2, 4, 2, 3),\n",
       "          '3': (2, 1, 2, 3, 1, 3, 1, 3, 2, 2, 1),\n",
       "          '4': (2, 1, 4, 1, 1, 3, 1, 4, 3, 1),\n",
       "          '5': (3, 2, 4, 3, 5, 4),\n",
       "          '6': (2, 3, 4, 2, 2, 5, 3),\n",
       "          '7': (2, 3, 2, 2, 3, 1, 3, 2, 3)}})"
      ]
     },
     "execution_count": 12,
     "metadata": {},
     "output_type": "execute_result"
    }
   ],
   "source": [
    "segdata = segeval.HEARST_1997_STARGAZER\n",
    "segdata"
   ]
  },
  {
   "cell_type": "code",
   "execution_count": 13,
   "metadata": {},
   "outputs": [
    {
     "data": {
      "text/plain": [
       "Decimal('0.5')"
      ]
     },
     "execution_count": 13,
     "metadata": {},
     "output_type": "execute_result"
    }
   ],
   "source": [
    "segeval.boundary_similarity(segdata['stargazer']['1'], segdata['stargazer']['2'])"
   ]
  },
  {
   "cell_type": "code",
   "execution_count": 31,
   "metadata": {},
   "outputs": [],
   "source": [
    "for vfile in val_files:\n",
    "    d = torch.load(vfile)\n",
    "    embb = d['embeddings'].to(device)\n",
    "    labs = d['labels'].to(device)\n",
    "    with torch.no_grad():\n",
    "        outs = nn.functional.softmax(model(embb.unsqueeze(0)), -1)\n",
    "    score = multiclass_f1_score(outs.squeeze(0).argmax(-1), labs, num_classes=2)\n",
    "    print([(i,j) for i,j in zip(labs.cpu(), outs.squeeze(0).argmax(-1).cpu())])"
   ]
  },
  {
   "cell_type": "code",
   "execution_count": 35,
   "metadata": {},
   "outputs": [
    {
     "name": "stdout",
     "output_type": "stream",
     "text": [
      "[(0, 0), (0, 0), (0, 0), (0, 0), (0, 0), (0, 0), (0, 0), (0, 0), (0, 0), (0, 0), (0, 0), (0, 0), (0, 0), (0, 0), (0, 0), (0, 0), (0, 0), (0, 0), (0, 0), (0, 0), (0, 0), (0, 0), (0, 0), (0, 0), (0, 0), (0, 0), (0, 0), (0, 0), (0, 0), (0, 0), (0, 0), (0, 0), (0, 0), (0, 0), (0, 0), (0, 0), (0, 0), (1, 0), (0, 0), (0, 0), (0, 0), (0, 0), (0, 0), (0, 0), (0, 0), (0, 0), (0, 0), (0, 0), (0, 0), (0, 0), (0, 0), (0, 0), (0, 0), (0, 0), (0, 0), (0, 0), (1, 0), (0, 0), (0, 0), (0, 0), (0, 0), (0, 0), (0, 0), (0, 0), (0, 0), (0, 0), (0, 0), (0, 0), (0, 0), (1, 0), (0, 0), (0, 0), (0, 0), (0, 0), (0, 0), (0, 0), (0, 0), (0, 0), (0, 0), (0, 0), (0, 0), (0, 0), (0, 0), (0, 0), (0, 0), (1, 0), (0, 0), (0, 0), (0, 0), (0, 0), (0, 0), (0, 0), (0, 0), (0, 0), (0, 0), (0, 0), (0, 0), (0, 0), (0, 0), (0, 0), (0, 0), (0, 0), (0, 0), (0, 1), (1, 0), (0, 0), (0, 0), (0, 0), (0, 0), (0, 0), (0, 0), (0, 0), (0, 0), (0, 0), (0, 0), (0, 0), (0, 0), (0, 0), (0, 0), (0, 0), (0, 0), (0, 0), (0, 0), (0, 0), (0, 0), (0, 0), (0, 0), (0, 0), (0, 0), (0, 0), (0, 1), (0, 0), (0, 0), (0, 0), (0, 0), (0, 0), (0, 0), (0, 0), (0, 0), (0, 0), (0, 0), (0, 0), (0, 0), (0, 0), (0, 0), (0, 0), (0, 0), (0, 0), (0, 0), (0, 0), (0, 0), (0, 0), (0, 0), (0, 1), (0, 0), (0, 0), (0, 0), (0, 0), (0, 0), (0, 0), (0, 0), (0, 0), (0, 0), (0, 0), (0, 0), (0, 0), (1, 0)]\n"
     ]
    }
   ],
   "source": [
    "print([(i.item(),j.item()) for i,j in zip(labs.cpu(), outs.argmax(-1).squeeze(0).cpu())])"
   ]
  },
  {
   "cell_type": "code",
   "execution_count": 42,
   "metadata": {},
   "outputs": [
    {
     "data": {
      "text/plain": [
       "tensor(0.4862)"
      ]
     },
     "execution_count": 42,
     "metadata": {},
     "output_type": "execute_result"
    }
   ],
   "source": [
    "multiclass_f1_score(outs.argmax(-1).squeeze(0).cpu(), labs.cpu(), num_classes=2, average=\"macro\")"
   ]
  },
  {
   "cell_type": "code",
   "execution_count": 23,
   "metadata": {},
   "outputs": [
    {
     "name": "stdout",
     "output_type": "stream",
     "text": [
      "0 0\n",
      "1 0\n",
      "0 0\n",
      "0 0\n",
      "0 0\n",
      "0 0\n",
      "1 0\n",
      "0 0\n",
      "0 0\n",
      "0 0\n",
      "0 0\n",
      "1 0\n",
      "0 0\n",
      "0 0\n",
      "0 0\n",
      "0 0\n",
      "0 0\n",
      "1 0\n",
      "0 0\n",
      "0 0\n",
      "1 0\n",
      "1 0\n",
      "0 1\n",
      "0 0\n",
      "0 0\n",
      "1 0\n",
      "0 0\n",
      "0 0\n",
      "0 0\n",
      "0 0\n",
      "0 0\n",
      "0 0\n",
      "1 0\n",
      "0 0\n",
      "0 0\n",
      "1 0\n",
      "0 0\n",
      "0 0\n",
      "0 0\n",
      "0 0\n",
      "0 0\n",
      "0 0\n",
      "0 1\n",
      "1 0\n",
      "1 0\n",
      "0 0\n",
      "0 0\n",
      "1 0\n",
      "0 0\n",
      "1 0\n",
      "0 0\n",
      "0 0\n",
      "0 0\n",
      "0 0\n",
      "1 0\n",
      "1 0\n",
      "0 0\n",
      "0 0\n",
      "0 0\n",
      "1 0\n",
      "0 0\n",
      "0 0\n",
      "0 0\n",
      "0 0\n",
      "0 0\n",
      "0 1\n",
      "0 0\n",
      "0 0\n",
      "0 0\n",
      "0 0\n",
      "0 0\n",
      "0 0\n",
      "0 0\n",
      "0 0\n",
      "0 0\n",
      "1 0\n",
      "0 0\n",
      "1 0\n",
      "1 0\n",
      "0 0\n",
      "0 0\n",
      "0 0\n",
      "0 0\n",
      "0 0\n",
      "1 0\n",
      "1 0\n",
      "0 0\n",
      "0 1\n",
      "0 0\n",
      "1 0\n",
      "0 0\n",
      "0 0\n",
      "0 0\n",
      "1 0\n",
      "0 0\n",
      "0 0\n",
      "1 0\n",
      "1 0\n",
      "0 0\n",
      "1 0\n",
      "0 0\n",
      "1 0\n",
      "0 0\n",
      "1 0\n",
      "0 0\n",
      "1 0\n",
      "1 0\n",
      "0 1\n",
      "0 0\n",
      "1 0\n",
      "1 0\n",
      "1 0\n",
      "1 0\n",
      "1 0\n",
      "1 0\n",
      "0 0\n",
      "1 0\n",
      "0 0\n",
      "1 0\n",
      "1 0\n",
      "1 1\n",
      "1 0\n",
      "1 0\n",
      "0 1\n",
      "1 0\n",
      "0 0\n",
      "0 0\n",
      "0 0\n",
      "0 0\n",
      "1 0\n",
      "1 0\n",
      "1 0\n",
      "1 0\n",
      "0 0\n",
      "1 0\n",
      "0 0\n",
      "0 0\n",
      "0 0\n",
      "0 0\n",
      "0 0\n",
      "0 0\n",
      "0 0\n",
      "0 0\n",
      "0 0\n",
      "0 0\n",
      "0 0\n",
      "0 0\n",
      "0 0\n",
      "0 1\n",
      "0 0\n",
      "0 0\n",
      "1 0\n",
      "0 0\n",
      "0 0\n",
      "0 0\n",
      "1 0\n",
      "0 0\n",
      "0 0\n",
      "0 0\n",
      "0 0\n",
      "0 0\n",
      "0 0\n",
      "1 0\n",
      "0 0\n",
      "0 0\n",
      "0 0\n",
      "0 0\n",
      "1 0\n",
      "1 0\n",
      "0 0\n",
      "1 0\n",
      "0 0\n",
      "1 0\n",
      "0 0\n",
      "0 0\n",
      "1 0\n",
      "1 0\n",
      "1 0\n",
      "0 0\n",
      "1 0\n",
      "0 0\n",
      "0 0\n",
      "0 1\n",
      "1 0\n",
      "0 0\n",
      "0 0\n",
      "1 0\n",
      "1 0\n",
      "0 0\n",
      "0 0\n",
      "1 0\n",
      "0 0\n",
      "0 0\n",
      "1 0\n",
      "1 0\n",
      "0 0\n",
      "0 0\n",
      "1 0\n",
      "0 0\n",
      "1 0\n",
      "1 0\n",
      "1 0\n",
      "0 0\n",
      "1 0\n",
      "1 0\n",
      "0 0\n",
      "1 0\n",
      "1 0\n",
      "0 0\n",
      "0 0\n",
      "1 0\n",
      "1 1\n",
      "1 0\n",
      "1 0\n",
      "1 0\n",
      "1 0\n",
      "1 0\n",
      "0 0\n",
      "1 0\n",
      "0 1\n",
      "0 0\n",
      "1 0\n",
      "1 0\n",
      "0 0\n",
      "1 0\n",
      "1 0\n",
      "1 0\n",
      "1 0\n",
      "1 0\n",
      "0 1\n",
      "1 0\n",
      "1 0\n",
      "1 0\n",
      "0 0\n",
      "0 0\n",
      "0 0\n",
      "1 0\n",
      "1 0\n",
      "1 0\n",
      "1 0\n",
      "1 0\n",
      "0 0\n",
      "1 1\n",
      "1 0\n",
      "1 0\n",
      "1 0\n",
      "1 0\n",
      "1 0\n",
      "0 0\n",
      "1 0\n",
      "0 0\n",
      "1 0\n",
      "0 0\n",
      "0 0\n",
      "0 0\n",
      "0 0\n",
      "0 0\n",
      "0 0\n",
      "0 0\n",
      "1 0\n",
      "0 0\n",
      "0 1\n",
      "1 0\n",
      "1 0\n",
      "1 0\n",
      "1 0\n",
      "1 0\n",
      "0 0\n",
      "1 0\n",
      "1 0\n",
      "1 0\n",
      "0 0\n",
      "0 0\n",
      "1 0\n",
      "1 0\n",
      "1 0\n",
      "1 0\n",
      "1 0\n",
      "0 0\n",
      "0 0\n",
      "0 1\n",
      "0 0\n",
      "0 0\n",
      "0 0\n",
      "0 0\n",
      "0 0\n",
      "0 0\n",
      "1 0\n",
      "0 0\n",
      "0 0\n",
      "0 0\n",
      "0 0\n",
      "1 0\n",
      "0 0\n",
      "1 0\n",
      "0 0\n",
      "0 0\n",
      "1 0\n",
      "0 0\n",
      "0 1\n",
      "1 0\n",
      "1 0\n",
      "1 0\n",
      "0 0\n",
      "0 0\n",
      "0 0\n",
      "0 0\n",
      "0 0\n",
      "0 0\n",
      "1 1\n",
      "0 0\n",
      "0 0\n",
      "0 0\n",
      "0 0\n",
      "0 0\n",
      "0 0\n",
      "1 0\n",
      "1 0\n",
      "1 0\n",
      "0 0\n",
      "0 0\n",
      "1 0\n",
      "1 0\n",
      "1 0\n",
      "1 0\n",
      "0 0\n",
      "1 1\n",
      "1 0\n",
      "1 0\n",
      "1 0\n",
      "1 0\n",
      "0 0\n",
      "1 0\n",
      "1 0\n",
      "0 0\n",
      "0 0\n",
      "1 0\n",
      "1 0\n",
      "1 0\n",
      "1 0\n",
      "1 0\n",
      "1 0\n",
      "0 0\n",
      "1 1\n",
      "1 0\n",
      "1 0\n",
      "1 0\n",
      "0 0\n",
      "0 0\n",
      "0 0\n",
      "1 0\n",
      "1 0\n",
      "0 0\n",
      "0 0\n",
      "1 0\n",
      "0 0\n",
      "0 0\n",
      "0 0\n",
      "0 1\n",
      "1 0\n",
      "1 0\n",
      "1 0\n",
      "0 0\n",
      "1 0\n",
      "1 0\n",
      "1 0\n",
      "1 0\n",
      "1 0\n",
      "1 0\n",
      "1 0\n",
      "1 0\n",
      "1 0\n",
      "1 0\n",
      "0 0\n",
      "1 0\n",
      "1 0\n",
      "1 0\n",
      "1 1\n",
      "1 0\n",
      "1 0\n",
      "1 0\n",
      "1 0\n",
      "1 0\n",
      "1 0\n",
      "1 0\n",
      "1 0\n",
      "1 0\n",
      "1 0\n",
      "1 0\n",
      "0 0\n",
      "1 1\n",
      "0 0\n",
      "0 0\n",
      "1 1\n",
      "1 0\n",
      "0 0\n",
      "1 0\n",
      "0 0\n",
      "1 0\n",
      "1 0\n",
      "1 0\n",
      "1 0\n",
      "1 0\n",
      "0 0\n",
      "1 0\n",
      "1 0\n",
      "1 0\n",
      "1 0\n",
      "1 0\n",
      "0 0\n",
      "0 0\n",
      "1 0\n",
      "0 0\n",
      "0 0\n",
      "0 0\n",
      "1 0\n",
      "0 0\n",
      "1 0\n",
      "1 0\n",
      "1 0\n"
     ]
    }
   ],
   "source": [
    "for o,a in zip(nn.functional.softmax(outputs, -1).argmax(-1)[0], lab):\n",
    "    print(o.item(), a.item())"
   ]
  },
  {
   "cell_type": "code",
   "execution_count": 155,
   "metadata": {},
   "outputs": [
    {
     "ename": "SegmentationMetricError",
     "evalue": "Reference and hypothesis segmentations differ in position length (215 is not 3).",
     "output_type": "error",
     "traceback": [
      "\u001b[0;31m---------------------------------------------------------------------------\u001b[0m",
      "\u001b[0;31mSegmentationMetricError\u001b[0m                   Traceback (most recent call last)",
      "Cell \u001b[0;32mIn[155], line 2\u001b[0m\n\u001b[1;32m      1\u001b[0m acc \u001b[38;5;241m=\u001b[39m Accuracies()\n\u001b[0;32m----> 2\u001b[0m \u001b[43macc\u001b[49m\u001b[38;5;241;43m.\u001b[39;49m\u001b[43mupdate\u001b[49m\u001b[43m(\u001b[49m\u001b[43moutputs\u001b[49m\u001b[38;5;241;43m.\u001b[39;49m\u001b[43mdetach\u001b[49m\u001b[43m(\u001b[49m\u001b[43m)\u001b[49m\u001b[38;5;241;43m.\u001b[39;49m\u001b[43mcpu\u001b[49m\u001b[43m(\u001b[49m\u001b[43m)\u001b[49m\u001b[38;5;241;43m.\u001b[39;49m\u001b[43mnumpy\u001b[49m\u001b[43m(\u001b[49m\u001b[43m)\u001b[49m\u001b[43m,\u001b[49m\u001b[43m \u001b[49m\u001b[43mlab\u001b[49m\u001b[38;5;241;43m.\u001b[39;49m\u001b[43munsqueeze\u001b[49m\u001b[43m(\u001b[49m\u001b[38;5;241;43m0\u001b[39;49m\u001b[43m)\u001b[49m\u001b[38;5;241;43m.\u001b[39;49m\u001b[43mdetach\u001b[49m\u001b[43m(\u001b[49m\u001b[43m)\u001b[49m\u001b[38;5;241;43m.\u001b[39;49m\u001b[43mcpu\u001b[49m\u001b[43m(\u001b[49m\u001b[43m)\u001b[49m\u001b[38;5;241;43m.\u001b[39;49m\u001b[43mnumpy\u001b[49m\u001b[43m(\u001b[49m\u001b[43m)\u001b[49m\u001b[43m)\u001b[49m\n",
      "Cell \u001b[0;32mIn[134], line 17\u001b[0m, in \u001b[0;36mAccuracies.update\u001b[0;34m(self, output_np, targets_np)\u001b[0m\n\u001b[1;32m     14\u001b[0m     h \u001b[38;5;241m=\u001b[39m np\u001b[38;5;241m.\u001b[39mappend(output, [\u001b[38;5;241m1\u001b[39m])\n\u001b[1;32m     15\u001b[0m     tt \u001b[38;5;241m=\u001b[39m np\u001b[38;5;241m.\u001b[39mappend(t, [\u001b[38;5;241m1\u001b[39m])\n\u001b[0;32m---> 17\u001b[0m     \u001b[38;5;28;43mself\u001b[39;49m\u001b[38;5;241;43m.\u001b[39;49m\u001b[43maccuracies\u001b[49m\u001b[43m[\u001b[49m\u001b[43mthreshold\u001b[49m\u001b[43m]\u001b[49m\u001b[38;5;241;43m.\u001b[39;49m\u001b[43mupdate\u001b[49m\u001b[43m(\u001b[49m\u001b[43mh\u001b[49m\u001b[43m,\u001b[49m\u001b[43m \u001b[49m\u001b[43mtt\u001b[49m\u001b[43m)\u001b[49m\n\u001b[1;32m     19\u001b[0m current_idx \u001b[38;5;241m=\u001b[39m to_idx\n",
      "File \u001b[0;32m~/projects/notebooks/accuracy.py:21\u001b[0m, in \u001b[0;36mAccuracy.update\u001b[0;34m(self, h, gold, sentences_length)\u001b[0m\n\u001b[1;32m     19\u001b[0m h_boundaries \u001b[38;5;241m=\u001b[39m \u001b[38;5;28mself\u001b[39m\u001b[38;5;241m.\u001b[39mget_seg_boundaries(h, sentences_length)\n\u001b[1;32m     20\u001b[0m gold_boundaries \u001b[38;5;241m=\u001b[39m \u001b[38;5;28mself\u001b[39m\u001b[38;5;241m.\u001b[39mget_seg_boundaries(gold, sentences_length)\n\u001b[0;32m---> 21\u001b[0m pk, count_pk \u001b[38;5;241m=\u001b[39m \u001b[38;5;28;43mself\u001b[39;49m\u001b[38;5;241;43m.\u001b[39;49m\u001b[43mpk\u001b[49m\u001b[43m(\u001b[49m\u001b[43mh_boundaries\u001b[49m\u001b[43m,\u001b[49m\u001b[43m \u001b[49m\u001b[43mgold_boundaries\u001b[49m\u001b[43m)\u001b[49m\n\u001b[1;32m     22\u001b[0m windiff, count_wd \u001b[38;5;241m=\u001b[39m \u001b[38;5;241m-\u001b[39m\u001b[38;5;241m1\u001b[39m, \u001b[38;5;241m400\u001b[39m;\u001b[38;5;66;03m# self.win_diff(h_boundaries, gold_boundaries)\u001b[39;00m\n\u001b[1;32m     24\u001b[0m \u001b[38;5;28;01mif\u001b[39;00m pk \u001b[38;5;241m!=\u001b[39m \u001b[38;5;241m-\u001b[39m\u001b[38;5;241m1\u001b[39m:\n",
      "File \u001b[0;32m~/projects/notebooks/accuracy.py:60\u001b[0m, in \u001b[0;36mAccuracy.pk\u001b[0;34m(self, h, gold, window_size)\u001b[0m\n\u001b[1;32m     58\u001b[0m     false_seg_count, total_count \u001b[38;5;241m=\u001b[39m seg\u001b[38;5;241m.\u001b[39mpk(h, gold, window_size\u001b[38;5;241m=\u001b[39mwindow_size, return_parts\u001b[38;5;241m=\u001b[39m\u001b[38;5;28;01mTrue\u001b[39;00m)\n\u001b[1;32m     59\u001b[0m \u001b[38;5;28;01melse\u001b[39;00m:\n\u001b[0;32m---> 60\u001b[0m     false_seg_count, total_count \u001b[38;5;241m=\u001b[39m \u001b[43mseg\u001b[49m\u001b[38;5;241;43m.\u001b[39;49m\u001b[43mpk\u001b[49m\u001b[43m(\u001b[49m\u001b[43mh\u001b[49m\u001b[43m,\u001b[49m\u001b[43m \u001b[49m\u001b[43mgold\u001b[49m\u001b[43m,\u001b[49m\u001b[43m \u001b[49m\u001b[43mreturn_parts\u001b[49m\u001b[38;5;241;43m=\u001b[39;49m\u001b[38;5;28;43;01mTrue\u001b[39;49;00m\u001b[43m)\u001b[49m\n\u001b[1;32m     62\u001b[0m \u001b[38;5;28;01mif\u001b[39;00m total_count \u001b[38;5;241m==\u001b[39m \u001b[38;5;241m0\u001b[39m:\n\u001b[1;32m     63\u001b[0m     \u001b[38;5;66;03m# TODO: Check when happens\u001b[39;00m\n\u001b[1;32m     64\u001b[0m     false_prob \u001b[38;5;241m=\u001b[39m \u001b[38;5;241m-\u001b[39m\u001b[38;5;241m1\u001b[39m\n",
      "File \u001b[0;32m~/miniconda/envs/dev/lib/python3.10/site-packages/segeval/window/pk.py:68\u001b[0m, in \u001b[0;36mpk\u001b[0;34m(*args, **kwargs)\u001b[0m\n\u001b[1;32m     66\u001b[0m \u001b[38;5;28;01mdef\u001b[39;00m \u001b[38;5;21mpk\u001b[39m(\u001b[38;5;241m*\u001b[39margs, \u001b[38;5;241m*\u001b[39m\u001b[38;5;241m*\u001b[39mkwargs):\n\u001b[0;32m---> 68\u001b[0m     \u001b[38;5;28;01mreturn\u001b[39;00m \u001b[43m__fnc_metric__\u001b[49m\u001b[43m(\u001b[49m\u001b[43m__pk__\u001b[49m\u001b[43m,\u001b[49m\u001b[43m \u001b[49m\u001b[43margs\u001b[49m\u001b[43m,\u001b[49m\u001b[43m \u001b[49m\u001b[43mkwargs\u001b[49m\u001b[43m,\u001b[49m\u001b[43m \u001b[49m\u001b[43mWINDOW_METRIC_DEFAULTS\u001b[49m\u001b[43m)\u001b[49m\n",
      "File \u001b[0;32m~/miniconda/envs/dev/lib/python3.10/site-packages/segeval/util/__init__.py:81\u001b[0m, in \u001b[0;36m__fnc_metric__\u001b[0;34m(fnc_metric, args, kwargs, kw_defaults)\u001b[0m\n\u001b[1;32m     78\u001b[0m     \u001b[38;5;28;01melse\u001b[39;00m:\n\u001b[1;32m     79\u001b[0m         \u001b[38;5;66;03m# Compare a single pair of segmentations\u001b[39;00m\n\u001b[1;32m     80\u001b[0m         \u001b[38;5;28;01mdel\u001b[39;00m metric_kwargs[\u001b[38;5;124m'\u001b[39m\u001b[38;5;124mpermuted\u001b[39m\u001b[38;5;124m'\u001b[39m]\n\u001b[0;32m---> 81\u001b[0m         \u001b[38;5;28;01mreturn\u001b[39;00m \u001b[43mfnc_metric\u001b[49m\u001b[43m(\u001b[49m\u001b[43mhypothesis\u001b[49m\u001b[43m,\u001b[49m\u001b[43m \u001b[49m\u001b[43mreference\u001b[49m\u001b[43m,\u001b[49m\u001b[43m \u001b[49m\u001b[38;5;241;43m*\u001b[39;49m\u001b[38;5;241;43m*\u001b[39;49m\u001b[43mmetric_kwargs\u001b[49m\u001b[43m)\u001b[49m\n\u001b[1;32m     82\u001b[0m \u001b[38;5;66;03m# Except if insufficient arguments supplied\u001b[39;00m\n\u001b[1;32m     83\u001b[0m \u001b[38;5;28;01mraise\u001b[39;00m SegmentationMetricError(\u001b[38;5;124m'\u001b[39m\u001b[38;5;124mIncorrect arguments specified; expected 1 or 2, obtained \u001b[39m\u001b[38;5;132;01m{0}\u001b[39;00m\u001b[38;5;124m of value: \u001b[39m\u001b[38;5;132;01m{1}\u001b[39;00m\u001b[38;5;124m'\u001b[39m\u001b[38;5;241m.\u001b[39mformat(\u001b[38;5;28mstr\u001b[39m(\u001b[38;5;28mlen\u001b[39m(args)), \u001b[38;5;28mstr\u001b[39m(args)))\n",
      "File \u001b[0;32m~/miniconda/envs/dev/lib/python3.10/site-packages/segeval/window/pk.py:33\u001b[0m, in \u001b[0;36m__pk__\u001b[0;34m(hypothesis, reference, window_size, one_minus, boundary_format, return_parts, fnc_round)\u001b[0m\n\u001b[1;32m     31\u001b[0m \u001b[38;5;66;03m# Check for input errors\u001b[39;00m\n\u001b[1;32m     32\u001b[0m \u001b[38;5;28;01mif\u001b[39;00m \u001b[38;5;28mlen\u001b[39m(reference) \u001b[38;5;241m!=\u001b[39m \u001b[38;5;28mlen\u001b[39m(hypothesis):\n\u001b[0;32m---> 33\u001b[0m     \u001b[38;5;28;01mraise\u001b[39;00m SegmentationMetricError(\n\u001b[1;32m     34\u001b[0m         \u001b[38;5;124m'\u001b[39m\u001b[38;5;124mReference and hypothesis segmentations differ in position length (\u001b[39m\u001b[38;5;132;01m{0}\u001b[39;00m\u001b[38;5;124m is not \u001b[39m\u001b[38;5;132;01m{1}\u001b[39;00m\u001b[38;5;124m).\u001b[39m\u001b[38;5;124m'\u001b[39m\u001b[38;5;241m.\u001b[39mformat(\u001b[38;5;28mlen\u001b[39m(reference), \u001b[38;5;28mlen\u001b[39m(hypothesis)))\n\u001b[1;32m     35\u001b[0m \u001b[38;5;66;03m# Compute window size to use if unspecified\u001b[39;00m\n\u001b[1;32m     36\u001b[0m \u001b[38;5;28;01mif\u001b[39;00m window_size \u001b[38;5;129;01mis\u001b[39;00m \u001b[38;5;28;01mNone\u001b[39;00m:\n",
      "\u001b[0;31mSegmentationMetricError\u001b[0m: Reference and hypothesis segmentations differ in position length (215 is not 3)."
     ]
    }
   ],
   "source": [
    "acc = Accuracies()\n",
    "acc.update(outputs.detach().cpu().numpy(), lab.unsqueeze(0).detach().cpu().numpy())"
   ]
  },
  {
   "cell_type": "code",
   "execution_count": 150,
   "metadata": {},
   "outputs": [
    {
     "data": {
      "text/plain": [
       "tensor([[0, 1, 1, 1, 1, 1, 0, 1, 0, 0, 1, 0, 1, 0, 0, 1, 0, 0, 0, 0, 0, 1, 1, 1,\n",
       "         1, 0, 1, 0, 1, 1, 0, 0, 0, 1, 0, 1, 1, 0, 0, 0, 0, 1, 1, 1, 0, 0, 0, 0,\n",
       "         0, 0, 1, 0, 0, 0, 1, 1, 1, 1, 1, 0, 0, 1, 0, 1, 0, 0, 1, 1, 0, 1, 0, 1,\n",
       "         0, 0, 0, 1, 0, 0, 0, 1, 0, 1, 0, 0, 0, 0, 0, 0, 0, 0, 0, 0, 0, 1, 0, 0,\n",
       "         0, 0, 1, 0, 0, 0, 0, 0, 0, 0, 0, 0, 0, 0, 0, 0, 0, 0, 0, 0, 0, 0, 0, 1,\n",
       "         0, 1, 1, 0, 0, 1, 0, 0, 0, 0, 0, 0, 0, 0, 1, 0, 0, 1, 0, 0, 0, 0, 1, 1,\n",
       "         1, 1, 1, 1, 0, 1, 1, 0, 0, 0, 1, 0, 0, 1, 0, 1, 0, 0, 1, 1, 1, 0, 0, 0,\n",
       "         0, 0, 0, 1, 0, 1, 1, 0, 0, 0, 0, 0, 1, 1, 1, 0, 1, 1, 0, 0, 1, 0, 1, 1,\n",
       "         0, 0, 1, 0, 1, 0, 0, 0, 1, 0, 0, 0, 0, 0, 0, 1, 1, 0, 0, 0, 1, 0, 0, 1,\n",
       "         1, 0, 0, 1, 0, 1, 0, 1, 1, 0, 1, 0, 1, 1, 1, 0, 0, 0, 0, 1, 0, 1, 0, 0,\n",
       "         1, 0, 1, 0, 1, 0, 1, 1, 0, 0, 1, 0, 1, 0, 0, 0, 0, 1, 0, 1, 0, 1, 1, 0,\n",
       "         0, 0, 0, 1, 0, 0, 0, 0, 0, 0, 0, 0, 1, 1, 0, 1, 0, 0, 0, 0, 0, 0, 0, 1,\n",
       "         0, 0, 1, 0, 0, 0, 0, 0, 0, 0, 0, 0, 0, 1, 0, 0, 0, 0, 0, 1, 1, 0, 0, 0,\n",
       "         1, 0, 0, 1]])"
      ]
     },
     "execution_count": 150,
     "metadata": {},
     "output_type": "execute_result"
    }
   ],
   "source": [
    "nn.functional.softmax(outputs, 2).argmax(2)"
   ]
  }
 ],
 "metadata": {
  "kernelspec": {
   "display_name": "dev",
   "language": "python",
   "name": "python3"
  },
  "language_info": {
   "codemirror_mode": {
    "name": "ipython",
    "version": 3
   },
   "file_extension": ".py",
   "mimetype": "text/x-python",
   "name": "python",
   "nbconvert_exporter": "python",
   "pygments_lexer": "ipython3",
   "version": "3.10.13"
  }
 },
 "nbformat": 4,
 "nbformat_minor": 2
}
