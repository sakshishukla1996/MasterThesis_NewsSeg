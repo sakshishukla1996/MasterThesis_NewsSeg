{
 "cells": [
  {
   "cell_type": "code",
   "execution_count": null,
   "metadata": {},
   "outputs": [],
   "source": [
    "# Embedding space of sonar -> Single and variable length input \n",
    "# Embedding space of codec -> Single and variable length input"
   ]
  },
  {
   "cell_type": "code",
   "execution_count": 3,
   "metadata": {},
   "outputs": [],
   "source": [
    "import torch \n",
    "import torchaudio\n",
    "from matplotlib import pyplot as plt\n",
    "from sonar.inference_pipelines.speech import SpeechToEmbeddingModelPipeline\n",
    "from IPython.display import Audio, display"
   ]
  },
  {
   "cell_type": "code",
   "execution_count": 4,
   "metadata": {},
   "outputs": [
    {
     "data": {
      "text/plain": [
       "(torch.Size([2, 47578802]), 48000)"
      ]
     },
     "execution_count": 4,
     "metadata": {},
     "output_type": "execute_result"
    }
   ],
   "source": [
    "inp, sr = torchaudio.load(\"/data/tagesschau/audio/1/audio.wav\")\n",
    "inp.shape, sr"
   ]
  },
  {
   "cell_type": "code",
   "execution_count": 5,
   "metadata": {},
   "outputs": [
    {
     "name": "stdout",
     "output_type": "stream",
     "text": [
      "AudioMetaData(sample_rate=48000, num_frames=47578802, num_channels=2, bits_per_sample=16, encoding=PCM_S)\n"
     ]
    }
   ],
   "source": [
    "info = torchaudio.info(\"/data/tagesschau/audio/1/audio.wav\")\n",
    "print(info)"
   ]
  },
  {
   "cell_type": "code",
   "execution_count": 6,
   "metadata": {},
   "outputs": [],
   "source": [
    "down_sample = torchaudio.transforms.Resample(orig_freq=sr, new_freq=16000)\n",
    "low_wave=down_sample(inp)"
   ]
  },
  {
   "cell_type": "code",
   "execution_count": 52,
   "metadata": {},
   "outputs": [
    {
     "ename": "",
     "evalue": "",
     "output_type": "error",
     "traceback": [
      "\u001b[1;31mThe Kernel crashed while executing code in the the current cell or a previous cell. Please review the code in the cell(s) to identify a possible cause of the failure. Click <a href='https://aka.ms/vscodeJupyterKernelCrash'>here</a> for more info. View Jupyter <a href='command:jupyter.viewOutput'>log</a> for further details."
     ]
    }
   ],
   "source": [
    "s2vec_model = SpeechToEmbeddingModelPipeline(encoder=\"sonar_speech_encoder_deu\", device=torch.device(\"cuda\"))"
   ]
  },
  {
   "cell_type": "code",
   "execution_count": 51,
   "metadata": {},
   "outputs": [
    {
     "data": {
      "text/plain": [
       "torch.Size([1, 1024])"
      ]
     },
     "execution_count": 51,
     "metadata": {},
     "output_type": "execute_result"
    }
   ],
   "source": [
    "out = s2vec_model.predict([low_wave[:,:48000*10]])\n",
    "out.shape"
   ]
  },
  {
   "cell_type": "code",
   "execution_count": 2,
   "metadata": {},
   "outputs": [],
   "source": [
    "# Testing the encodec\n",
    "\n",
    "from transformers import EncodecModel, AutoProcessor"
   ]
  },
  {
   "cell_type": "code",
   "execution_count": 28,
   "metadata": {},
   "outputs": [
    {
     "name": "stderr",
     "output_type": "stream",
     "text": [
      "Could not find image processor class in the image processor config or the model config. Loading based on pattern matching with the model's feature extractor configuration.\n"
     ]
    }
   ],
   "source": [
    "device = torch.device(\"cuda\")\n",
    "encodec = EncodecModel.from_pretrained(\"facebook/encodec_48khz\")\n",
    "encodec.to(device)\n",
    "processor = AutoProcessor.from_pretrained(\"facebook/encodec_48khz\")"
   ]
  },
  {
   "cell_type": "code",
   "execution_count": 77,
   "metadata": {},
   "outputs": [],
   "source": [
    "inputs = processor(raw_audio=inp[:,:sr*15], sampling_rate=processor.sampling_rate, return_tensors=\"pt\")"
   ]
  },
  {
   "cell_type": "code",
   "execution_count": 78,
   "metadata": {},
   "outputs": [
    {
     "data": {
      "text/plain": [
       "{'padding_mask': tensor([[1, 1, 1,  ..., 0, 0, 0]], device='cuda:0', dtype=torch.int32),\n",
       " 'input_values': tensor([[[0., 0., 0.,  ..., 0., 0., 0.],\n",
       "          [0., 0., 0.,  ..., 0., 0., 0.]]], device='cuda:0')}"
      ]
     },
     "execution_count": 78,
     "metadata": {},
     "output_type": "execute_result"
    }
   ],
   "source": [
    "inputs = {k:v.to(device) for k,v in inputs.items()}\n",
    "inputs"
   ]
  },
  {
   "cell_type": "code",
   "execution_count": 79,
   "metadata": {},
   "outputs": [
    {
     "data": {
      "text/plain": [
       "EncodecEncoderOutput(audio_codes=tensor([[[[ 442,  442,  442,  ...,  383,  920,  844],\n",
       "          [ 989,  989,  989,  ...,  853,  321,  170]]],\n",
       "\n",
       "\n",
       "        [[[ 707, 1017,  324,  ...,  462,  282,  536],\n",
       "          [ 600,  590,   59,  ...,  281,  398,  784]]],\n",
       "\n",
       "\n",
       "        [[[ 980,  324,  418,  ...,  418,  438,  866],\n",
       "          [ 647,   13,  281,  ...,  222,  590,  590]]],\n",
       "\n",
       "\n",
       "        ...,\n",
       "\n",
       "\n",
       "        [[[ 987,  516,  947,  ...,  930,  718,  920],\n",
       "          [ 778,  835,  283,  ...,  673,  446,  601]]],\n",
       "\n",
       "\n",
       "        [[[ 617,   66,  248,  ...,   34,  968,  195],\n",
       "          [ 138,  463,  353,  ...,  964,  664,  180]]],\n",
       "\n",
       "\n",
       "        [[[ 455,  439,  126,  ...,  214,  214,  214],\n",
       "          [ 402,  402,  885,  ...,  882,  882,  882]]]], device='cuda:0'), audio_scales=[tensor([[[0.0228]]], device='cuda:0'), tensor([[[0.0727]]], device='cuda:0'), tensor([[[0.1122]]], device='cuda:0'), tensor([[[0.1040]]], device='cuda:0'), tensor([[[0.1554]]], device='cuda:0'), tensor([[[0.1277]]], device='cuda:0'), tensor([[[0.1218]]], device='cuda:0'), tensor([[[0.1202]]], device='cuda:0'), tensor([[[0.0928]]], device='cuda:0'), tensor([[[0.1108]]], device='cuda:0'), tensor([[[0.1046]]], device='cuda:0'), tensor([[[0.0823]]], device='cuda:0'), tensor([[[0.0904]]], device='cuda:0'), tensor([[[0.0850]]], device='cuda:0'), tensor([[[0.0836]]], device='cuda:0'), tensor([[[0.0345]]], device='cuda:0')])"
      ]
     },
     "execution_count": 79,
     "metadata": {},
     "output_type": "execute_result"
    }
   ],
   "source": [
    "output = encodec.encode(**inputs)\n",
    "output"
   ]
  },
  {
   "cell_type": "code",
   "execution_count": 80,
   "metadata": {},
   "outputs": [
    {
     "data": {
      "text/plain": [
       "(torch.Size([16, 1, 2, 150]), device(type='cpu'), 16)"
      ]
     },
     "execution_count": 80,
     "metadata": {},
     "output_type": "execute_result"
    }
   ],
   "source": [
    "output.audio_codes = output.audio_codes.to(\"cpu\")\n",
    "output.audio_codes.shape, output.audio_codes.device, len(output.audio_scales)"
   ]
  },
  {
   "cell_type": "code",
   "execution_count": 81,
   "metadata": {},
   "outputs": [
    {
     "data": {
      "text/plain": [
       "<matplotlib.image.AxesImage at 0x7fe868cdd540>"
      ]
     },
     "execution_count": 81,
     "metadata": {},
     "output_type": "execute_result"
    },
    {
     "data": {
      "image/png": "[encoded data removed]",
      "text/plain": [
       "<Figure size 1500x1500 with 1 Axes>"
      ]
     },
     "metadata": {},
     "output_type": "display_data"
    }
   ],
   "source": [
    "plt.figure(figsize=(15,15))\n",
    "plt.imshow(output.audio_codes[0, 0, :, :40])"
   ]
  },
  {
   "cell_type": "code",
   "execution_count": 83,
   "metadata": {},
   "outputs": [
    {
     "data": {
      "text/plain": [
       "[<matplotlib.lines.Line2D at 0x7fe868d799f0>]"
      ]
     },
     "execution_count": 83,
     "metadata": {},
     "output_type": "execute_result"
    },
    {
     "data": {
      "image/png": "[encoded data removed]",
      "text/plain": [
       "<Figure size 640x480 with 1 Axes>"
      ]
     },
     "metadata": {},
     "output_type": "display_data"
    }
   ],
   "source": [
    "plt.plot([i.item() for i in output.audio_scales])"
   ]
  },
  {
   "cell_type": "code",
   "execution_count": null,
   "metadata": {},
   "outputs": [],
   "source": []
  }
 ],
 "metadata": {
  "kernelspec": {
   "display_name": "dev",
   "language": "python",
   "name": "python3"
  },
  "language_info": {
   "codemirror_mode": {
    "name": "ipython",
    "version": 3
   },
   "file_extension": ".py",
   "mimetype": "text/x-python",
   "name": "python",
   "nbconvert_exporter": "python",
   "pygments_lexer": "ipython3",
   "version": "3.10.13"
  }
 },
 "nbformat": 4,
 "nbformat_minor": 2
}
