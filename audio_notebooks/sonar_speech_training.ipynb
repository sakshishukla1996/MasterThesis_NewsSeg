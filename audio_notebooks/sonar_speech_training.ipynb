{
 "cells": [
  {
   "cell_type": "code",
   "execution_count": 1,
   "metadata": {},
   "outputs": [],
   "source": [
    "import torch\n",
    "import torchaudio\n",
    "from sonar.inference_pipelines.speech import SpeechToEmbeddingModelPipeline"
   ]
  },
  {
   "cell_type": "code",
   "execution_count": 2,
   "metadata": {},
   "outputs": [],
   "source": [
    "device = torch.device(\"cuda\") if torch.cuda.is_available() else torch.device(\"cpu\")\n",
    "mapper = SpeechToEmbeddingModelPipeline(encoder=\"sonar_speech_encoder_deu\", device=device)\n",
    "# mapper.to(device);    "
   ]
  },
  {
   "cell_type": "code",
   "execution_count": 3,
   "metadata": {},
   "outputs": [
    {
     "data": {
      "text/plain": [
       "(991.2250416666667, torch.Size([1, 15859601]), 991.2250625)"
      ]
     },
     "execution_count": 3,
     "metadata": {},
     "output_type": "execute_result"
    }
   ],
   "source": [
    "audio, sr = torchaudio.load(\"/data/tagesschau/audio/1/audio.wav\")\n",
    "audio = audio[:1, :]\n",
    "audio_low = torchaudio.functional.resample(audio, orig_freq=sr, new_freq=16_000)\n",
    "audio.shape[-1] / sr, audio_low.shape, audio_low.shape[-1]/16_000"
   ]
  },
  {
   "cell_type": "code",
   "execution_count": 10,
   "metadata": {},
   "outputs": [
    {
     "data": {
      "text/plain": [
       "(torch.Size([2, 48000000]), torch.Size([1, 16000000]))"
      ]
     },
     "execution_count": 10,
     "metadata": {},
     "output_type": "execute_result"
    }
   ],
   "source": [
    "padded_audio = torch.nn.functional.pad(audio, (0, (48000_000 - audio.shape[-1])))\n",
    "padded_audio_low = torch.nn.functional.pad(audio_low, (0, (16000_000 - audio_low.shape[-1])))\n",
    "\n",
    "padded_audio.shape, padded_audio_low.shape"
   ]
  },
  {
   "cell_type": "code",
   "execution_count": 11,
   "metadata": {},
   "outputs": [],
   "source": [
    "concat = padded_audio.split(48000_0, dim=-1)\n",
    "concat_low = padded_audio_low.split(16000_0, dim=-1)"
   ]
  },
  {
   "cell_type": "code",
   "execution_count": 12,
   "metadata": {},
   "outputs": [
    {
     "data": {
      "text/plain": [
       "(100, 100)"
      ]
     },
     "execution_count": 12,
     "metadata": {},
     "output_type": "execute_result"
    }
   ],
   "source": [
    "len(concat), len(concat_low)"
   ]
  },
  {
   "cell_type": "code",
   "execution_count": 13,
   "metadata": {},
   "outputs": [],
   "source": [
    "with torch.no_grad():\n",
    "    out = mapper.predict(concat_low, batch_size=16)"
   ]
  },
  {
   "cell_type": "code",
   "execution_count": 17,
   "metadata": {},
   "outputs": [
    {
     "data": {
      "text/plain": [
       "(torch.Size([1, 160000]), torch.Size([100, 1024]))"
      ]
     },
     "execution_count": 17,
     "metadata": {},
     "output_type": "execute_result"
    }
   ],
   "source": [
    "concat_low[0].shape, out.shape"
   ]
  },
  {
   "cell_type": "code",
   "execution_count": 3,
   "metadata": {},
   "outputs": [],
   "source": [
    "from pathlib import Path\n",
    "import json\n",
    "from tqdm import tqdm\n",
    "import os"
   ]
  },
  {
   "cell_type": "code",
   "execution_count": 4,
   "metadata": {},
   "outputs": [
    {
     "name": "stderr",
     "output_type": "stream",
     "text": [
      "  0%|          | 0/927 [00:00<?, ?it/s]"
     ]
    },
    {
     "name": "stderr",
     "output_type": "stream",
     "text": [
      "100%|██████████| 927/927 [35:33<00:00,  2.30s/it, 10_sec_shape=torch.Size([100, 1024]), 30_sec_shape=torch.Size([34, 1024])]\n"
     ]
    }
   ],
   "source": [
    "# files = Path(\"/data/tagesschau/more_audio/\").glob(\"**/*.wav\")\n",
    "exist_10 = True\n",
    "exist_30 = True\n",
    "\n",
    "files = json.load(open(\"/data/tagesschau/more_data/labels.json\", \"r\")).keys()\n",
    "prog = tqdm(files)\n",
    "for file in prog:\n",
    "    \n",
    "    if not os.path.exists(f\"/data/tagesschau/more_data_preprocessed/10sec/{file}.pt\"):\n",
    "        exist_10 = False\n",
    "    if not os.path.exists(f\"/data/tagesschau/more_data_preprocessed/30sec/{file}.pt\"):\n",
    "        exist_30 = False\n",
    "    if exist_10 and exist_30:\n",
    "        continue\n",
    "\n",
    "    audio, sr = torchaudio.load(f\"/data/tagesschau/more_data/{file}/audio.wav\")\n",
    "    audio_low = torchaudio.functional.resample(audio, orig_freq=sr, new_freq=16000)\n",
    "    \n",
    "    audio_low = audio_low[:1, :16_000_000]\n",
    "    if audio_low.shape[-1]<16_000_000:\n",
    "        pad = 16_000_000 - audio_low.shape[-1]\n",
    "        audio_low = torch.nn.functional.pad(audio_low, (0, pad), mode='constant')\n",
    "    \n",
    "    prog.set_postfix({\"audio_len\": audio_low.shape})\n",
    "\n",
    "    audio_10_splits = list(torch.split(audio_low, split_size_or_sections=(16_000 * 10), dim=-1))\n",
    "    audio_30_splits = list(torch.split(audio_low, split_size_or_sections=(16_000 * 30), dim=-1))\n",
    "\n",
    "    with torch.no_grad():\n",
    "        output_10 = mapper.predict(audio_10_splits, batch_size=16)\n",
    "        output_30 = mapper.predict(audio_30_splits, batch_size=16)\n",
    "    output_10 = torch.nan_to_num(output_10, nan=0.0)\n",
    "    output_30 = torch.nan_to_num(output_30, nan=0.0)\n",
    "\n",
    "    prog.set_postfix({\"10_sec_shape\": output_10.shape, \"30_sec_shape\": output_30.shape})\n",
    "    \n",
    "    torch.save(output_30, Path(\"/data/tagesschau/more_data_preprocessed/30sec/\") / f\"{file}.pt\")\n",
    "    torch.save(output_10, Path(\"/data/tagesschau/more_data_preprocessed/10sec/\") / f\"{file}.pt\")\n",
    "    \n",
    "    exist_10 = True\n",
    "    exist_30 = True,"
   ]
  },
  {
   "cell_type": "code",
   "execution_count": 26,
   "metadata": {},
   "outputs": [
    {
     "data": {
      "text/plain": [
       "tensor([-0.0026,  0.0030,  0.0062,  ...,  0.0084,  0.0103, -0.0066],\n",
       "       device='cuda:0')"
      ]
     },
     "execution_count": 26,
     "metadata": {},
     "output_type": "execute_result"
    }
   ],
   "source": [
    "output_10[0]"
   ]
  }
 ],
 "metadata": {
  "kernelspec": {
   "display_name": "dev",
   "language": "python",
   "name": "python3"
  },
  "language_info": {
   "codemirror_mode": {
    "name": "ipython",
    "version": 3
   },
   "file_extension": ".py",
   "mimetype": "text/x-python",
   "name": "python",
   "nbconvert_exporter": "python",
   "pygments_lexer": "ipython3",
   "version": "3.10.13"
  }
 },
 "nbformat": 4,
 "nbformat_minor": 2
}
