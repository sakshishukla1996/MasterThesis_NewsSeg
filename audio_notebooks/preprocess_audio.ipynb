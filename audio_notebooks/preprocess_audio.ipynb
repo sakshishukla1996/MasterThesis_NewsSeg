{
 "cells": [
  {
   "cell_type": "code",
   "execution_count": 1,
   "metadata": {},
   "outputs": [],
   "source": [
    "import os\n",
    "import sys\n",
    "from pathlib import Path\n",
    "import re\n",
    "from tqdm import tqdm"
   ]
  },
  {
   "cell_type": "code",
   "execution_count": null,
   "metadata": {},
   "outputs": [],
   "source": [
    "audio_files = Path(\"/data/tagesschau/more_data/\")\n",
    "files = sorted(list(audio_files.glob(\"**/*.webm\")))\n",
    "for path in tqdm(files):\n",
    "    if not os.path.exists(os.path.join(path.parent / 'audio.wav')):\n",
    "        # print(f\"{path} ==> {os.path.join(path.parent / 'audio.wav')}\")\n",
    "        os.system(f\"ffmpeg -i \\\"{path}\\\" -vn \\\"{os.path.join(path.parent / 'audio.wav')}\\\"\")"
   ]
  },
  {
   "cell_type": "code",
   "execution_count": 33,
   "metadata": {},
   "outputs": [],
   "source": [
    "counts = []\n",
    "no_counts = []\n",
    "for i in range(len(list(Path(\"/data/tagesschau/more_data/\").glob(\"**/*.txt\")))):\n",
    "    if not os.path.exists(f\"/data/tagesschau/more_data/{i}/{i}.txt\"):\n",
    "        continue\n",
    "    with open(f\"/data/tagesschau/more_data/{i}/{i}.txt\", \"r\") as f:\n",
    "        lines = f.read().splitlines()\n",
    "    lines = [line.strip().replace(\"10.10\", \"10:10\") for line in lines]\n",
    "    labels = []\n",
    "    for line in lines:\n",
    "        if re.match(r\"\\d{1,2}:\\d\\d\", line):\n",
    "            search = re.search(r\"^\\d{1,2}:\\d{1,2}\", line)\n",
    "            labels.append(search)\n",
    "            time = line[search.span()[0]: search.span()[1]]\n",
    "            m, s = time.split(\":\")\n",
    "            # print(search, time, int(m), int(s), \"\\t\", int(m)*60 + int(s))\n",
    "    if len(labels) > 1:\n",
    "        counts.append(i)\n",
    "    else:\n",
    "        no_counts.append(i)"
   ]
  },
  {
   "cell_type": "code",
   "execution_count": 38,
   "metadata": {},
   "outputs": [
    {
     "name": "stdout",
     "output_type": "stream",
     "text": [
      "927\n",
      "1426\n"
     ]
    }
   ],
   "source": [
    "print(len(counts))\n",
    "print(len(no_counts))"
   ]
  },
  {
   "cell_type": "code",
   "execution_count": 58,
   "metadata": {},
   "outputs": [],
   "source": [
    "import pandas as pd"
   ]
  },
  {
   "cell_type": "code",
   "execution_count": 72,
   "metadata": {},
   "outputs": [],
   "source": [
    "timestamps = {}\n",
    "for count in counts:\n",
    "    i = count\n",
    "    timestamps[count] = {}\n",
    "    with open(f\"/data/tagesschau/more_data/{i}/{i}.txt\", \"r\") as f:\n",
    "        lines = f.read().splitlines()\n",
    "    times = []\n",
    "    for line in lines:\n",
    "        if re.match(r\"\\d{1,2}:\\d\\d\", line):\n",
    "            search = re.search(r\"^\\d{1,2}:\\d{1,2}\", line)\n",
    "            labels.append(search)\n",
    "            time = line[search.span()[0]: search.span()[1]]\n",
    "            m, s = time.split(\":\")\n",
    "            times.append((int(m), int(s)))\n",
    "    timestamps[count][\"duration\"] = times"
   ]
  },
  {
   "cell_type": "code",
   "execution_count": 70,
   "metadata": {},
   "outputs": [],
   "source": [
    "import json"
   ]
  },
  {
   "cell_type": "code",
   "execution_count": 73,
   "metadata": {},
   "outputs": [],
   "source": [
    "json.dump(timestamps, open(\"/data/tagesschau/more_data/labels.json\", \"w\"))"
   ]
  }
 ],
 "metadata": {
  "kernelspec": {
   "display_name": "dev",
   "language": "python",
   "name": "python3"
  },
  "language_info": {
   "codemirror_mode": {
    "name": "ipython",
    "version": 3
   },
   "file_extension": ".py",
   "mimetype": "text/x-python",
   "name": "python",
   "nbconvert_exporter": "python",
   "pygments_lexer": "ipython3",
   "version": "3.10.13"
  }
 },
 "nbformat": 4,
 "nbformat_minor": 2
}
