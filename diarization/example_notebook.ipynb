{
 "cells": [
  {
   "cell_type": "markdown",
   "metadata": {},
   "source": [
    "# Diarization Example"
   ]
  },
  {
   "attachments": {},
   "cell_type": "markdown",
   "metadata": {},
   "source": [
    "Let's use a [Tagesschau video](https://www.tagesschau.de/multimedia/sendung/ts-33043.html). It is already processed under the [test folder](./test) with ground-truth speaker labels in the RTTM format."
   ]
  },
  {
   "cell_type": "code",
   "execution_count": 2,
   "metadata": {},
   "outputs": [
    {
     "name": "stdout",
     "output_type": "stream",
     "text": [
      "\n",
      "Input File     : 'test/tagesschau02092019.wav'\n",
      "Channels       : 1\n",
      "Sample Rate    : 16000\n",
      "Precision      : 16-bit\n",
      "Duration       : 00:14:40.80 = 14092841 samples ~ 66060.2 CDDA sectors\n",
      "File Size      : 28.2M\n",
      "Bit Rate       : 256k\n",
      "Sample Encoding: 16-bit Signed Integer PCM\n",
      "\n"
     ]
    }
   ],
   "source": [
    "!soxi test/tagesschau02092019.wav"
   ]
  },
  {
   "cell_type": "code",
   "execution_count": 3,
   "metadata": {},
   "outputs": [
    {
     "data": {
      "text/html": [
       "\n",
       "<a href=\"https://www.youtube.com/watch?v=E1q0yIW0O74\" target=\"_blank\">\n",
       "    <img src=\"http://img.youtube.com/vi/E1q0yIW0O74/0.jpg\" width=\"400\" border=\"4\">\n",
       "</a>\n"
      ],
      "text/plain": [
       "<IPython.core.display.HTML object>"
      ]
     },
     "metadata": {},
     "output_type": "display_data"
    }
   ],
   "source": [
    "from IPython.display import display, HTML\n",
    "video_id = \"E1q0yIW0O74\"\n",
    "raw_html = \"\"\"\n",
    "<a href=\"https://www.youtube.com/watch?v={video_id}\" target=\"_blank\">\n",
    "    <img src=\"http://img.youtube.com/vi/{video_id}/0.jpg\" width=\"400\" border=\"4\">\n",
    "</a>\n",
    "\"\"\"\n",
    "display(HTML(raw_html.format(video_id=video_id)))"
   ]
  },
  {
   "attachments": {},
   "cell_type": "markdown",
   "metadata": {},
   "source": [
    "## Import Pipeline\n",
    "\n",
    "Diarization system first uses voice activity detection (VAD) to segment the input audio file, computes speaker embeddings using a pre-trained x-vector model, and applies agglomerative hierarchical clustering (AHC) with a VBx hidden Markov model (HMM) to perform speaker diarization on the input audio file."
   ]
  },
  {
   "cell_type": "code",
   "execution_count": 5,
   "metadata": {},
   "outputs": [],
   "source": [
    "from main import Pipeline\n",
    "diarizer = Pipeline.init_from_wav(\"./test/tagesschau02092019.wav\")"
   ]
  },
  {
   "attachments": {},
   "cell_type": "markdown",
   "metadata": {},
   "source": [
    "## Start Diarization\n",
    "\n",
    "Diarizer will return the RTTM output,"
   ]
  },
  {
   "cell_type": "code",
   "execution_count": 6,
   "metadata": {},
   "outputs": [
    {
     "name": "stdout",
     "output_type": "stream",
     "text": [
      "Diarization completed. RTTM file generated at results/tagesschau02092019.rttm\n",
      "CPU times: user 12min 33s, sys: 2min 41s, total: 15min 14s\n",
      "Wall time: 1min 56s\n"
     ]
    }
   ],
   "source": [
    "%%time\n",
    "\n",
    "rttm_path = diarizer.write_to_RTTM(\"./results\")"
   ]
  },
  {
   "attachments": {},
   "cell_type": "markdown",
   "metadata": {},
   "source": [
    "Display the first few lines of the produced RTTM file,"
   ]
  },
  {
   "cell_type": "code",
   "execution_count": 7,
   "metadata": {},
   "outputs": [
    {
     "name": "stdout",
     "output_type": "stream",
     "text": [
      "SPEAKER tagesschau02092019 1 4.360000 2.990000 <NA> <NA> 34 <NA> <NA>\n",
      "SPEAKER tagesschau02092019 1 14.970000 2.430000 <NA> <NA> 34 <NA> <NA>\n",
      "SPEAKER tagesschau02092019 1 18.040000 26.320000 <NA> <NA> 32 <NA> <NA>\n",
      "SPEAKER tagesschau02092019 1 45.530000 10.940000 <NA> <NA> 34 <NA> <NA>\n",
      "SPEAKER tagesschau02092019 1 57.400000 21.960000 <NA> <NA> 21 <NA> <NA>\n",
      "SPEAKER tagesschau02092019 1 79.360000 5.590000 <NA> <NA> 34 <NA> <NA>\n",
      "SPEAKER tagesschau02092019 1 86.120000 7.080000 <NA> <NA> 27 <NA> <NA>\n",
      "SPEAKER tagesschau02092019 1 93.200000 6.150000 <NA> <NA> 34 <NA> <NA>\n",
      "SPEAKER tagesschau02092019 1 100.360000 15.000000 <NA> <NA> 27 <NA> <NA>\n",
      "SPEAKER tagesschau02092019 1 115.360000 6.790000 <NA> <NA> 34 <NA> <NA>\n"
     ]
    }
   ],
   "source": [
    "!cat {rttm_path} | head"
   ]
  },
  {
   "attachments": {},
   "cell_type": "markdown",
   "metadata": {},
   "source": [
    "Measure the diarization error rate using `md-eval.pl` script where `-r` and `-s` specify the reference RTTM file and the system output RTTM file respectively,"
   ]
  },
  {
   "cell_type": "code",
   "execution_count": 8,
   "metadata": {},
   "outputs": [
    {
     "name": "stdout",
     "output_type": "stream",
     "text": [
      " OVERALL SPEAKER DIARIZATION ERROR = 2.69 percent of scored speaker time  `(ALL)\n"
     ]
    }
   ],
   "source": [
    "!./test/md-eval.pl -1 -c 0.25 -r test/tagesschau02092019.rttm -s results/tagesschau02092019.rttm \\\n",
    "    | grep \"SPEAKER DIARIZATION ERROR\"d"
   ]
  }
 ],
 "metadata": {
  "kernelspec": {
   "display_name": "Python 3",
   "language": "python",
   "name": "python3"
  },
  "language_info": {
   "codemirror_mode": {
    "name": "ipython",
    "version": 3
   },
   "file_extension": ".py",
   "mimetype": "text/x-python",
   "name": "python",
   "nbconvert_exporter": "python",
   "pygments_lexer": "ipython3",
   "version": "3.9.16"
  },
  "orig_nbformat": 4
 },
 "nbformat": 4,
 "nbformat_minor": 2
}
